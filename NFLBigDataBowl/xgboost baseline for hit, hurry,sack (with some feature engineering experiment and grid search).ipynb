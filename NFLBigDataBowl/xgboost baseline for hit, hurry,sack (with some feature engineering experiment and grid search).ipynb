{
 "cells": [
  {
   "cell_type": "code",
   "execution_count": 61,
   "id": "42a01708",
   "metadata": {},
   "outputs": [
    {
     "name": "stdout",
     "output_type": "stream",
     "text": [
      "1.2.4\n"
     ]
    }
   ],
   "source": [
    "print(pd.__version__)"
   ]
  },
  {
   "cell_type": "code",
   "execution_count": 156,
   "id": "30a4d76c",
   "metadata": {},
   "outputs": [],
   "source": [
    "import csv\n",
    "import pandas as pd\n",
    "import numpy as np\n",
    "from datetime import datetime\n",
    "import dateutil.parser\n",
    "from IPython.display import display\n",
    "import math\n",
    "import copy \n",
    "\n",
    "from sklearn.metrics import roc_curve, auc, precision_recall_curve, classification_report, average_precision_score\n",
    "import matplotlib.pyplot as plt\n",
    "\n",
    "import xgboost as xgb\n",
    "from sklearn.metrics import accuracy_score,classification_report, confusion_matrix\n",
    "\n",
    "from sklearn.model_selection import train_test_split\n",
    "\n",
    "\n",
    "\n",
    "pd.options.display.max_columns = None\n",
    "pd.set_option('display.max_rows', None)\n",
    "\n"
   ]
  },
  {
   "cell_type": "code",
   "execution_count": null,
   "id": "da291075",
   "metadata": {},
   "outputs": [],
   "source": [
    "print(len(meow))"
   ]
  },
  {
   "cell_type": "code",
   "execution_count": null,
   "id": "6a024d72",
   "metadata": {},
   "outputs": [],
   "source": [
    "#can skip to way later if using Jing Chun's or Harrison's preprocessed csv"
   ]
  },
  {
   "cell_type": "code",
   "execution_count": null,
   "id": "359b37f2",
   "metadata": {},
   "outputs": [],
   "source": [
    "df=pd.read_csv(\"/Users/joonghochoi/Desktop/NFLBigDataBowl/NFL/combined_per_player_block.csv\")\n",
    "df.head(3)\n"
   ]
  },
  {
   "cell_type": "code",
   "execution_count": null,
   "id": "c8374156",
   "metadata": {},
   "outputs": [],
   "source": [
    "df1=pd.read_csv(\"/Users/joonghochoi/Desktop/NFLBigDataBowl/NFL/combined_per_player_rush.csv\")\n",
    "df1.head(3)"
   ]
  },
  {
   "cell_type": "code",
   "execution_count": null,
   "id": "fa6cbdf9",
   "metadata": {},
   "outputs": [],
   "source": [
    "print(set(df.pff_role))\n",
    "print(set(df1.pff_role))\n",
    "print(df.shape)\n",
    "print(df1.shape)\n",
    "print(df2.shape)"
   ]
  },
  {
   "cell_type": "code",
   "execution_count": null,
   "id": "a5c10c34",
   "metadata": {},
   "outputs": [],
   "source": [
    "frames = [df,df1]\n",
    "\n",
    "result = pd.concat(frames)\n",
    "print(result.shape)\n",
    "result.head(3)"
   ]
  },
  {
   "cell_type": "code",
   "execution_count": null,
   "id": "8fb6b881",
   "metadata": {},
   "outputs": [],
   "source": [
    "result=result.drop(columns=['Unnamed: 0'])\n",
    "result.head(3)"
   ]
  },
  {
   "cell_type": "code",
   "execution_count": null,
   "id": "4c0be3fb",
   "metadata": {},
   "outputs": [],
   "source": [
    "print(set(result.pff_role))\n"
   ]
  },
  {
   "cell_type": "code",
   "execution_count": null,
   "id": "6944dbf9",
   "metadata": {},
   "outputs": [],
   "source": [
    "df2=pd.read_csv(\"/Users/joonghochoi/Desktop/NFLBigDataBowl/NFL/2023/pffScoutingData.csv\")\n",
    "set(df2.playId)"
   ]
  },
  {
   "cell_type": "code",
   "execution_count": null,
   "id": "d1bb1608",
   "metadata": {},
   "outputs": [],
   "source": [
    "df3=df2[df2.columns[df2.columns.isin(['gameId','playId','nflId','pff_hit','pff_hurry','pff_sack'])]]\n",
    "df3.head(3)"
   ]
  },
  {
   "cell_type": "code",
   "execution_count": null,
   "id": "37bab1aa",
   "metadata": {},
   "outputs": [],
   "source": [
    "print(result.shape)\n",
    "print(df3.shape)"
   ]
  },
  {
   "cell_type": "code",
   "execution_count": null,
   "id": "cf14df00",
   "metadata": {},
   "outputs": [],
   "source": [
    "df4=df3.merge(result, left_on=['gameId','playId','nflId'],right_on=['gameId','playId','nflId'])"
   ]
  },
  {
   "cell_type": "code",
   "execution_count": null,
   "id": "bdcb39fe",
   "metadata": {},
   "outputs": [],
   "source": [
    "print(df4.shape)\n",
    "df4.head(2)"
   ]
  },
  {
   "cell_type": "code",
   "execution_count": null,
   "id": "9729952a",
   "metadata": {},
   "outputs": [],
   "source": [
    "df5=df4.dropna()\n",
    "print(df5.shape)\n",
    "df5.head(2)"
   ]
  },
  {
   "cell_type": "code",
   "execution_count": null,
   "id": "0790715d",
   "metadata": {},
   "outputs": [],
   "source": [
    "df5['outcome']=0\n",
    "df5.loc[df5['pff_hurry'] == 1, 'outcome']='Hurry'\n",
    "df5.loc[df5['pff_hit'] == 1, 'outcome']='Hit'\n",
    "df5.loc[df5['pff_sack'] == 1, 'outcome']='Sack'"
   ]
  },
  {
   "cell_type": "code",
   "execution_count": null,
   "id": "81ae7e16",
   "metadata": {},
   "outputs": [],
   "source": [
    "df5.head(2)"
   ]
  },
  {
   "cell_type": "code",
   "execution_count": null,
   "id": "9e0b793e",
   "metadata": {},
   "outputs": [],
   "source": [
    "x_df=df5[df5.columns[~df5.columns.isin(['gameId','playId','nflId','outcome'])]]\n",
    "x_df.head(3)"
   ]
  },
  {
   "cell_type": "code",
   "execution_count": null,
   "id": "56f9b30a",
   "metadata": {},
   "outputs": [],
   "source": [
    "y_df=df5[df5.columns[df5.columns.isin(['outcome'])]]\n",
    "y_df.head(3)"
   ]
  },
  {
   "cell_type": "code",
   "execution_count": null,
   "id": "dd253a70",
   "metadata": {},
   "outputs": [],
   "source": []
  },
  {
   "cell_type": "code",
   "execution_count": null,
   "id": "bd91b9bf",
   "metadata": {},
   "outputs": [],
   "source": [
    "#continue from here using Jing chun's."
   ]
  },
  {
   "cell_type": "code",
   "execution_count": 112,
   "id": "6b6283b5",
   "metadata": {},
   "outputs": [
    {
     "data": {
      "text/html": [
       "<div>\n",
       "<style scoped>\n",
       "    .dataframe tbody tr th:only-of-type {\n",
       "        vertical-align: middle;\n",
       "    }\n",
       "\n",
       "    .dataframe tbody tr th {\n",
       "        vertical-align: top;\n",
       "    }\n",
       "\n",
       "    .dataframe thead th {\n",
       "        text-align: right;\n",
       "    }\n",
       "</style>\n",
       "<table border=\"1\" class=\"dataframe\">\n",
       "  <thead>\n",
       "    <tr style=\"text-align: right;\">\n",
       "      <th></th>\n",
       "      <th>Unnamed: 0</th>\n",
       "      <th>playId</th>\n",
       "      <th>gameId</th>\n",
       "      <th>frameId</th>\n",
       "      <th>area_block</th>\n",
       "      <th>dist_block</th>\n",
       "      <th>dist_to_qb_block</th>\n",
       "      <th>x_force_block</th>\n",
       "      <th>y_force_block</th>\n",
       "      <th>norm_weighted_x_block</th>\n",
       "      <th>norm_weighted_y_block</th>\n",
       "      <th>area_rush</th>\n",
       "      <th>dist_rush</th>\n",
       "      <th>dist_to_qb_rush</th>\n",
       "      <th>x_force_rush</th>\n",
       "      <th>y_force_rush</th>\n",
       "      <th>norm_weighted_x_rush</th>\n",
       "      <th>norm_weighted_y_rush</th>\n",
       "      <th>X</th>\n",
       "      <th>net_x_force_bottom</th>\n",
       "      <th>net_y_force_bottom</th>\n",
       "      <th>net_x_force_middle</th>\n",
       "      <th>net_y_force_middle</th>\n",
       "      <th>net_x_force_top</th>\n",
       "      <th>net_y_force_top</th>\n",
       "      <th>hit</th>\n",
       "      <th>hurry</th>\n",
       "      <th>sack</th>\n",
       "      <th>bad_thing</th>\n",
       "    </tr>\n",
       "  </thead>\n",
       "  <tbody>\n",
       "    <tr>\n",
       "      <th>0</th>\n",
       "      <td>1</td>\n",
       "      <td>100</td>\n",
       "      <td>2021091205</td>\n",
       "      <td>1</td>\n",
       "      <td>79.224000</td>\n",
       "      <td>2.165379</td>\n",
       "      <td>4.273408</td>\n",
       "      <td>0.000000</td>\n",
       "      <td>0.000000</td>\n",
       "      <td>0.000000</td>\n",
       "      <td>0.000000</td>\n",
       "      <td>217.635233</td>\n",
       "      <td>3.941905</td>\n",
       "      <td>7.215590</td>\n",
       "      <td>0.000000</td>\n",
       "      <td>0.000000</td>\n",
       "      <td>0.000000</td>\n",
       "      <td>0.00000</td>\n",
       "      <td>12707</td>\n",
       "      <td>0.000000</td>\n",
       "      <td>0.000000</td>\n",
       "      <td>1471.153017</td>\n",
       "      <td>92.498591</td>\n",
       "      <td>116.641363</td>\n",
       "      <td>-99.199424</td>\n",
       "      <td>0</td>\n",
       "      <td>0</td>\n",
       "      <td>0</td>\n",
       "      <td>0</td>\n",
       "    </tr>\n",
       "    <tr>\n",
       "      <th>1</th>\n",
       "      <td>2</td>\n",
       "      <td>100</td>\n",
       "      <td>2021091205</td>\n",
       "      <td>10</td>\n",
       "      <td>54.340933</td>\n",
       "      <td>2.090488</td>\n",
       "      <td>4.285844</td>\n",
       "      <td>-346.873572</td>\n",
       "      <td>57.667929</td>\n",
       "      <td>-337.586230</td>\n",
       "      <td>73.375147</td>\n",
       "      <td>187.745233</td>\n",
       "      <td>3.529407</td>\n",
       "      <td>6.367005</td>\n",
       "      <td>-1217.339965</td>\n",
       "      <td>76.233066</td>\n",
       "      <td>-1202.548632</td>\n",
       "      <td>106.33097</td>\n",
       "      <td>12716</td>\n",
       "      <td>1363.057395</td>\n",
       "      <td>201.502240</td>\n",
       "      <td>1558.680496</td>\n",
       "      <td>501.458099</td>\n",
       "      <td>633.989718</td>\n",
       "      <td>-301.990233</td>\n",
       "      <td>0</td>\n",
       "      <td>0</td>\n",
       "      <td>0</td>\n",
       "      <td>0</td>\n",
       "    </tr>\n",
       "    <tr>\n",
       "      <th>2</th>\n",
       "      <td>3</td>\n",
       "      <td>100</td>\n",
       "      <td>2021091205</td>\n",
       "      <td>11</td>\n",
       "      <td>50.359333</td>\n",
       "      <td>2.084440</td>\n",
       "      <td>4.290909</td>\n",
       "      <td>-311.417633</td>\n",
       "      <td>45.599327</td>\n",
       "      <td>-302.820681</td>\n",
       "      <td>58.078608</td>\n",
       "      <td>230.288000</td>\n",
       "      <td>3.501304</td>\n",
       "      <td>6.150107</td>\n",
       "      <td>-1345.483725</td>\n",
       "      <td>70.183668</td>\n",
       "      <td>-1315.285185</td>\n",
       "      <td>98.73391</td>\n",
       "      <td>12717</td>\n",
       "      <td>1038.638081</td>\n",
       "      <td>139.671426</td>\n",
       "      <td>1330.320348</td>\n",
       "      <td>462.586594</td>\n",
       "      <td>452.505465</td>\n",
       "      <td>-190.680610</td>\n",
       "      <td>0</td>\n",
       "      <td>0</td>\n",
       "      <td>0</td>\n",
       "      <td>0</td>\n",
       "    </tr>\n",
       "  </tbody>\n",
       "</table>\n",
       "</div>"
      ],
      "text/plain": [
       "   Unnamed: 0  playId      gameId  frameId  area_block  dist_block  \\\n",
       "0           1     100  2021091205        1   79.224000    2.165379   \n",
       "1           2     100  2021091205       10   54.340933    2.090488   \n",
       "2           3     100  2021091205       11   50.359333    2.084440   \n",
       "\n",
       "   dist_to_qb_block  x_force_block  y_force_block  norm_weighted_x_block  \\\n",
       "0          4.273408       0.000000       0.000000               0.000000   \n",
       "1          4.285844    -346.873572      57.667929            -337.586230   \n",
       "2          4.290909    -311.417633      45.599327            -302.820681   \n",
       "\n",
       "   norm_weighted_y_block   area_rush  dist_rush  dist_to_qb_rush  \\\n",
       "0               0.000000  217.635233   3.941905         7.215590   \n",
       "1              73.375147  187.745233   3.529407         6.367005   \n",
       "2              58.078608  230.288000   3.501304         6.150107   \n",
       "\n",
       "   x_force_rush  y_force_rush  norm_weighted_x_rush  norm_weighted_y_rush  \\\n",
       "0      0.000000      0.000000              0.000000               0.00000   \n",
       "1  -1217.339965     76.233066          -1202.548632             106.33097   \n",
       "2  -1345.483725     70.183668          -1315.285185              98.73391   \n",
       "\n",
       "       X  net_x_force_bottom  net_y_force_bottom  net_x_force_middle  \\\n",
       "0  12707            0.000000            0.000000         1471.153017   \n",
       "1  12716         1363.057395          201.502240         1558.680496   \n",
       "2  12717         1038.638081          139.671426         1330.320348   \n",
       "\n",
       "   net_y_force_middle  net_x_force_top  net_y_force_top  hit  hurry  sack  \\\n",
       "0           92.498591       116.641363       -99.199424    0      0     0   \n",
       "1          501.458099       633.989718      -301.990233    0      0     0   \n",
       "2          462.586594       452.505465      -190.680610    0      0     0   \n",
       "\n",
       "   bad_thing  \n",
       "0          0  \n",
       "1          0  \n",
       "2          0  "
      ]
     },
     "execution_count": 112,
     "metadata": {},
     "output_type": "execute_result"
    }
   ],
   "source": [
    "new_df=pd.read_csv(\"/Users/joonghochoi/Desktop/NFLBigDataBowl/NFL/features_all_1.csv\")\n",
    "new_df1=pd.read_csv(\"/Users/joonghochoi/Desktop/NFLBigDataBowl/NFL/features_all_2.csv\")\n",
    "new_df.head(3)"
   ]
  },
  {
   "cell_type": "code",
   "execution_count": 113,
   "id": "8b3c2862",
   "metadata": {},
   "outputs": [],
   "source": [
    "# new_df=pd.read_csv(\"/Users/joonghochoi/Desktop/NFLBigDataBowl/NFL/2023/by_frame_all.csv\")\n",
    "# new_df.head(2)"
   ]
  },
  {
   "cell_type": "code",
   "execution_count": 114,
   "id": "a1ed6f9d",
   "metadata": {},
   "outputs": [],
   "source": [
    "#new_df[new_df.bad_thing==0,]"
   ]
  },
  {
   "cell_type": "code",
   "execution_count": 115,
   "id": "4b1a0fdc",
   "metadata": {},
   "outputs": [
    {
     "name": "stdout",
     "output_type": "stream",
     "text": [
      "(36617, 22)\n"
     ]
    }
   ],
   "source": [
    "#new_df1=new_df.drop(columns=['Unnamed: 0','playId','gameId.x','gameId.y','hit','hurry','sack'])\n",
    "new_df1=new_df.drop(columns=['Unnamed: 0','playId','gameId','hit','hurry','sack','X'])\n",
    "\n",
    "\n",
    "print(new_df1.shape)\n"
   ]
  },
  {
   "cell_type": "code",
   "execution_count": 116,
   "id": "171fbd11",
   "metadata": {},
   "outputs": [
    {
     "data": {
      "text/html": [
       "<div>\n",
       "<style scoped>\n",
       "    .dataframe tbody tr th:only-of-type {\n",
       "        vertical-align: middle;\n",
       "    }\n",
       "\n",
       "    .dataframe tbody tr th {\n",
       "        vertical-align: top;\n",
       "    }\n",
       "\n",
       "    .dataframe thead th {\n",
       "        text-align: right;\n",
       "    }\n",
       "</style>\n",
       "<table border=\"1\" class=\"dataframe\">\n",
       "  <thead>\n",
       "    <tr style=\"text-align: right;\">\n",
       "      <th></th>\n",
       "      <th>frameId</th>\n",
       "      <th>area_block</th>\n",
       "      <th>dist_block</th>\n",
       "      <th>dist_to_qb_block</th>\n",
       "      <th>x_force_block</th>\n",
       "      <th>y_force_block</th>\n",
       "      <th>norm_weighted_x_block</th>\n",
       "      <th>norm_weighted_y_block</th>\n",
       "      <th>area_rush</th>\n",
       "      <th>dist_rush</th>\n",
       "      <th>dist_to_qb_rush</th>\n",
       "      <th>x_force_rush</th>\n",
       "      <th>y_force_rush</th>\n",
       "      <th>norm_weighted_x_rush</th>\n",
       "      <th>norm_weighted_y_rush</th>\n",
       "      <th>net_x_force_bottom</th>\n",
       "      <th>net_y_force_bottom</th>\n",
       "      <th>net_x_force_middle</th>\n",
       "      <th>net_y_force_middle</th>\n",
       "      <th>net_x_force_top</th>\n",
       "      <th>net_y_force_top</th>\n",
       "      <th>bad_thing</th>\n",
       "    </tr>\n",
       "  </thead>\n",
       "  <tbody>\n",
       "    <tr>\n",
       "      <th>0</th>\n",
       "      <td>1</td>\n",
       "      <td>79.224000</td>\n",
       "      <td>2.165379</td>\n",
       "      <td>4.273408</td>\n",
       "      <td>0.000000</td>\n",
       "      <td>0.000000</td>\n",
       "      <td>0.00000</td>\n",
       "      <td>0.000000</td>\n",
       "      <td>217.635233</td>\n",
       "      <td>3.941905</td>\n",
       "      <td>7.215590</td>\n",
       "      <td>0.000000</td>\n",
       "      <td>0.000000</td>\n",
       "      <td>0.000000</td>\n",
       "      <td>0.00000</td>\n",
       "      <td>0.000000</td>\n",
       "      <td>0.00000</td>\n",
       "      <td>1471.153017</td>\n",
       "      <td>92.498591</td>\n",
       "      <td>116.641363</td>\n",
       "      <td>-99.199424</td>\n",
       "      <td>0</td>\n",
       "    </tr>\n",
       "    <tr>\n",
       "      <th>1</th>\n",
       "      <td>10</td>\n",
       "      <td>54.340933</td>\n",
       "      <td>2.090488</td>\n",
       "      <td>4.285844</td>\n",
       "      <td>-346.873572</td>\n",
       "      <td>57.667929</td>\n",
       "      <td>-337.58623</td>\n",
       "      <td>73.375147</td>\n",
       "      <td>187.745233</td>\n",
       "      <td>3.529407</td>\n",
       "      <td>6.367005</td>\n",
       "      <td>-1217.339965</td>\n",
       "      <td>76.233066</td>\n",
       "      <td>-1202.548632</td>\n",
       "      <td>106.33097</td>\n",
       "      <td>1363.057395</td>\n",
       "      <td>201.50224</td>\n",
       "      <td>1558.680496</td>\n",
       "      <td>501.458099</td>\n",
       "      <td>633.989718</td>\n",
       "      <td>-301.990233</td>\n",
       "      <td>0</td>\n",
       "    </tr>\n",
       "  </tbody>\n",
       "</table>\n",
       "</div>"
      ],
      "text/plain": [
       "   frameId  area_block  dist_block  dist_to_qb_block  x_force_block  \\\n",
       "0        1   79.224000    2.165379          4.273408       0.000000   \n",
       "1       10   54.340933    2.090488          4.285844    -346.873572   \n",
       "\n",
       "   y_force_block  norm_weighted_x_block  norm_weighted_y_block   area_rush  \\\n",
       "0       0.000000                0.00000               0.000000  217.635233   \n",
       "1      57.667929             -337.58623              73.375147  187.745233   \n",
       "\n",
       "   dist_rush  dist_to_qb_rush  x_force_rush  y_force_rush  \\\n",
       "0   3.941905         7.215590      0.000000      0.000000   \n",
       "1   3.529407         6.367005  -1217.339965     76.233066   \n",
       "\n",
       "   norm_weighted_x_rush  norm_weighted_y_rush  net_x_force_bottom  \\\n",
       "0              0.000000               0.00000            0.000000   \n",
       "1          -1202.548632             106.33097         1363.057395   \n",
       "\n",
       "   net_y_force_bottom  net_x_force_middle  net_y_force_middle  \\\n",
       "0             0.00000         1471.153017           92.498591   \n",
       "1           201.50224         1558.680496          501.458099   \n",
       "\n",
       "   net_x_force_top  net_y_force_top  bad_thing  \n",
       "0       116.641363       -99.199424          0  \n",
       "1       633.989718      -301.990233          0  "
      ]
     },
     "execution_count": 116,
     "metadata": {},
     "output_type": "execute_result"
    }
   ],
   "source": [
    "new_df1.head(2)"
   ]
  },
  {
   "cell_type": "code",
   "execution_count": 65,
   "id": "bf98c418",
   "metadata": {
    "scrolled": true
   },
   "outputs": [
    {
     "data": {
      "text/html": [
       "<div>\n",
       "<style scoped>\n",
       "    .dataframe tbody tr th:only-of-type {\n",
       "        vertical-align: middle;\n",
       "    }\n",
       "\n",
       "    .dataframe tbody tr th {\n",
       "        vertical-align: top;\n",
       "    }\n",
       "\n",
       "    .dataframe thead th {\n",
       "        text-align: right;\n",
       "    }\n",
       "</style>\n",
       "<table border=\"1\" class=\"dataframe\">\n",
       "  <thead>\n",
       "    <tr style=\"text-align: right;\">\n",
       "      <th></th>\n",
       "      <th>frameId</th>\n",
       "      <th>area_block</th>\n",
       "      <th>dist_block</th>\n",
       "      <th>dist_to_qb_block</th>\n",
       "      <th>x_force_block</th>\n",
       "      <th>y_force_block</th>\n",
       "      <th>norm_weighted_x_block</th>\n",
       "      <th>norm_weighted_y_block</th>\n",
       "      <th>area_rush</th>\n",
       "      <th>dist_rush</th>\n",
       "      <th>dist_to_qb_rush</th>\n",
       "      <th>x_force_rush</th>\n",
       "      <th>y_force_rush</th>\n",
       "      <th>norm_weighted_x_rush</th>\n",
       "      <th>norm_weighted_y_rush</th>\n",
       "      <th>net_x_force_bottom</th>\n",
       "      <th>net_y_force_bottom</th>\n",
       "      <th>net_x_force_middle</th>\n",
       "      <th>net_y_force_middle</th>\n",
       "      <th>net_x_force_top</th>\n",
       "      <th>net_y_force_top</th>\n",
       "    </tr>\n",
       "  </thead>\n",
       "  <tbody>\n",
       "    <tr>\n",
       "      <th>0</th>\n",
       "      <td>1</td>\n",
       "      <td>79.224000</td>\n",
       "      <td>2.165379</td>\n",
       "      <td>4.273408</td>\n",
       "      <td>0.000000</td>\n",
       "      <td>0.000000</td>\n",
       "      <td>0.000000</td>\n",
       "      <td>0.000000</td>\n",
       "      <td>217.635233</td>\n",
       "      <td>3.941905</td>\n",
       "      <td>7.215590</td>\n",
       "      <td>0.000000</td>\n",
       "      <td>0.000000</td>\n",
       "      <td>0.000000</td>\n",
       "      <td>0.00000</td>\n",
       "      <td>0.000000</td>\n",
       "      <td>0.000000</td>\n",
       "      <td>1471.153017</td>\n",
       "      <td>92.498591</td>\n",
       "      <td>116.641363</td>\n",
       "      <td>-99.199424</td>\n",
       "    </tr>\n",
       "    <tr>\n",
       "      <th>1</th>\n",
       "      <td>10</td>\n",
       "      <td>54.340933</td>\n",
       "      <td>2.090488</td>\n",
       "      <td>4.285844</td>\n",
       "      <td>-346.873572</td>\n",
       "      <td>57.667929</td>\n",
       "      <td>-337.586230</td>\n",
       "      <td>73.375147</td>\n",
       "      <td>187.745233</td>\n",
       "      <td>3.529407</td>\n",
       "      <td>6.367005</td>\n",
       "      <td>-1217.339965</td>\n",
       "      <td>76.233066</td>\n",
       "      <td>-1202.548632</td>\n",
       "      <td>106.33097</td>\n",
       "      <td>1363.057395</td>\n",
       "      <td>201.502240</td>\n",
       "      <td>1558.680496</td>\n",
       "      <td>501.458099</td>\n",
       "      <td>633.989718</td>\n",
       "      <td>-301.990233</td>\n",
       "    </tr>\n",
       "    <tr>\n",
       "      <th>2</th>\n",
       "      <td>11</td>\n",
       "      <td>50.359333</td>\n",
       "      <td>2.084440</td>\n",
       "      <td>4.290909</td>\n",
       "      <td>-311.417633</td>\n",
       "      <td>45.599327</td>\n",
       "      <td>-302.820681</td>\n",
       "      <td>58.078608</td>\n",
       "      <td>230.288000</td>\n",
       "      <td>3.501304</td>\n",
       "      <td>6.150107</td>\n",
       "      <td>-1345.483725</td>\n",
       "      <td>70.183668</td>\n",
       "      <td>-1315.285185</td>\n",
       "      <td>98.73391</td>\n",
       "      <td>1038.638081</td>\n",
       "      <td>139.671426</td>\n",
       "      <td>1330.320348</td>\n",
       "      <td>462.586594</td>\n",
       "      <td>452.505465</td>\n",
       "      <td>-190.680610</td>\n",
       "    </tr>\n",
       "  </tbody>\n",
       "</table>\n",
       "</div>"
      ],
      "text/plain": [
       "   frameId  area_block  dist_block  dist_to_qb_block  x_force_block  \\\n",
       "0        1   79.224000    2.165379          4.273408       0.000000   \n",
       "1       10   54.340933    2.090488          4.285844    -346.873572   \n",
       "2       11   50.359333    2.084440          4.290909    -311.417633   \n",
       "\n",
       "   y_force_block  norm_weighted_x_block  norm_weighted_y_block   area_rush  \\\n",
       "0       0.000000               0.000000               0.000000  217.635233   \n",
       "1      57.667929            -337.586230              73.375147  187.745233   \n",
       "2      45.599327            -302.820681              58.078608  230.288000   \n",
       "\n",
       "   dist_rush  dist_to_qb_rush  x_force_rush  y_force_rush  \\\n",
       "0   3.941905         7.215590      0.000000      0.000000   \n",
       "1   3.529407         6.367005  -1217.339965     76.233066   \n",
       "2   3.501304         6.150107  -1345.483725     70.183668   \n",
       "\n",
       "   norm_weighted_x_rush  norm_weighted_y_rush  net_x_force_bottom  \\\n",
       "0              0.000000               0.00000            0.000000   \n",
       "1          -1202.548632             106.33097         1363.057395   \n",
       "2          -1315.285185              98.73391         1038.638081   \n",
       "\n",
       "   net_y_force_bottom  net_x_force_middle  net_y_force_middle  \\\n",
       "0            0.000000         1471.153017           92.498591   \n",
       "1          201.502240         1558.680496          501.458099   \n",
       "2          139.671426         1330.320348          462.586594   \n",
       "\n",
       "   net_x_force_top  net_y_force_top  \n",
       "0       116.641363       -99.199424  \n",
       "1       633.989718      -301.990233  \n",
       "2       452.505465      -190.680610  "
      ]
     },
     "execution_count": 65,
     "metadata": {},
     "output_type": "execute_result"
    }
   ],
   "source": [
    "x_df=new_df1[new_df1.columns[~new_df1.columns.isin(['bad_thing'])]]\n",
    "x_df.head(3)\n"
   ]
  },
  {
   "cell_type": "code",
   "execution_count": 66,
   "id": "53771509",
   "metadata": {},
   "outputs": [
    {
     "data": {
      "text/html": [
       "<div>\n",
       "<style scoped>\n",
       "    .dataframe tbody tr th:only-of-type {\n",
       "        vertical-align: middle;\n",
       "    }\n",
       "\n",
       "    .dataframe tbody tr th {\n",
       "        vertical-align: top;\n",
       "    }\n",
       "\n",
       "    .dataframe thead th {\n",
       "        text-align: right;\n",
       "    }\n",
       "</style>\n",
       "<table border=\"1\" class=\"dataframe\">\n",
       "  <thead>\n",
       "    <tr style=\"text-align: right;\">\n",
       "      <th></th>\n",
       "      <th>bad_thing</th>\n",
       "    </tr>\n",
       "  </thead>\n",
       "  <tbody>\n",
       "    <tr>\n",
       "      <th>0</th>\n",
       "      <td>0</td>\n",
       "    </tr>\n",
       "    <tr>\n",
       "      <th>1</th>\n",
       "      <td>0</td>\n",
       "    </tr>\n",
       "    <tr>\n",
       "      <th>2</th>\n",
       "      <td>0</td>\n",
       "    </tr>\n",
       "  </tbody>\n",
       "</table>\n",
       "</div>"
      ],
      "text/plain": [
       "   bad_thing\n",
       "0          0\n",
       "1          0\n",
       "2          0"
      ]
     },
     "execution_count": 66,
     "metadata": {},
     "output_type": "execute_result"
    }
   ],
   "source": [
    "y_df=new_df1[new_df1.columns[new_df1.columns.isin(['bad_thing'])]]\n",
    "y_df.head(3)"
   ]
  },
  {
   "cell_type": "code",
   "execution_count": 67,
   "id": "87241b4d",
   "metadata": {
    "scrolled": true
   },
   "outputs": [
    {
     "name": "stdout",
     "output_type": "stream",
     "text": [
      "(16106, 1)\n",
      "(20511, 1)\n"
     ]
    }
   ],
   "source": [
    "bad=y_df.loc[y_df['bad_thing'] == 1]\n",
    "\n",
    "not_bad=y_df.loc[y_df['bad_thing'] == 0]\n",
    "\n",
    "\n",
    "print(bad.shape)\n",
    "print(not_bad.shape) #imbalanced as expected"
   ]
  },
  {
   "cell_type": "code",
   "execution_count": null,
   "id": "eaacd552",
   "metadata": {},
   "outputs": [],
   "source": []
  },
  {
   "cell_type": "code",
   "execution_count": 68,
   "id": "c8e96174",
   "metadata": {},
   "outputs": [],
   "source": [
    "X_train, X_test, y_train, y_test = train_test_split(x_df, y_df, test_size=0.33, random_state=42)"
   ]
  },
  {
   "cell_type": "code",
   "execution_count": 69,
   "id": "810903d9",
   "metadata": {},
   "outputs": [
    {
     "data": {
      "text/html": [
       "<div>\n",
       "<style scoped>\n",
       "    .dataframe tbody tr th:only-of-type {\n",
       "        vertical-align: middle;\n",
       "    }\n",
       "\n",
       "    .dataframe tbody tr th {\n",
       "        vertical-align: top;\n",
       "    }\n",
       "\n",
       "    .dataframe thead th {\n",
       "        text-align: right;\n",
       "    }\n",
       "</style>\n",
       "<table border=\"1\" class=\"dataframe\">\n",
       "  <thead>\n",
       "    <tr style=\"text-align: right;\">\n",
       "      <th></th>\n",
       "      <th>bad_thing</th>\n",
       "    </tr>\n",
       "  </thead>\n",
       "  <tbody>\n",
       "    <tr>\n",
       "      <th>28274</th>\n",
       "      <td>0</td>\n",
       "    </tr>\n",
       "    <tr>\n",
       "      <th>23707</th>\n",
       "      <td>0</td>\n",
       "    </tr>\n",
       "  </tbody>\n",
       "</table>\n",
       "</div>"
      ],
      "text/plain": [
       "       bad_thing\n",
       "28274          0\n",
       "23707          0"
      ]
     },
     "execution_count": 69,
     "metadata": {},
     "output_type": "execute_result"
    }
   ],
   "source": [
    "X_train.head(2)\n",
    "y_train.head(2)"
   ]
  },
  {
   "cell_type": "code",
   "execution_count": 70,
   "id": "cbec8f78",
   "metadata": {},
   "outputs": [
    {
     "name": "stderr",
     "output_type": "stream",
     "text": [
      "/usr/local/lib/python3.9/site-packages/xgboost/sklearn.py:1146: UserWarning: The use of label encoder in XGBClassifier is deprecated and will be removed in a future release. To remove this warning, do the following: 1) Pass option use_label_encoder=False when constructing XGBClassifier object; and 2) Encode your labels (y) as integers starting with 0, i.e. 0, 1, 2, ..., [num_class - 1].\n",
      "  warnings.warn(label_encoder_deprecation_msg, UserWarning)\n",
      "/usr/local/lib/python3.9/site-packages/sklearn/utils/validation.py:63: DataConversionWarning: A column-vector y was passed when a 1d array was expected. Please change the shape of y to (n_samples, ), for example using ravel().\n",
      "  return f(*args, **kwargs)\n"
     ]
    },
    {
     "name": "stdout",
     "output_type": "stream",
     "text": [
      "[11:22:14] WARNING: /Users/travis/build/dmlc/xgboost/src/learner.cc:1095: Starting in XGBoost 1.3.0, the default evaluation metric used with the objective 'binary:logistic' was changed from 'error' to 'logloss'. Explicitly set eval_metric if you'd like to restore the old behavior.\n"
     ]
    }
   ],
   "source": [
    "clf = xgb.XGBClassifier(max_depth=5, n_estimators=30,objective='binary:logistic')\n",
    "# clf = xgb.XGBClassifier(max_depth=5, objective='multi:softprob', n_estimators=1000, \n",
    "#                         num_classes=2)\n",
    "\n",
    "clf.fit(X_train, y_train)  \n",
    "pred = clf.predict(X_test)"
   ]
  },
  {
   "cell_type": "code",
   "execution_count": 71,
   "id": "84a5a70a",
   "metadata": {},
   "outputs": [
    {
     "name": "stdout",
     "output_type": "stream",
     "text": [
      "Accuracy of Model:: 0.6890930155577624\n"
     ]
    }
   ],
   "source": [
    "\n",
    "print(\"Accuracy of Model::\",accuracy_score(y_test,pred))\n",
    "\n"
   ]
  },
  {
   "cell_type": "code",
   "execution_count": 28,
   "id": "fa755baa",
   "metadata": {},
   "outputs": [
    {
     "ename": "XGBoostError",
     "evalue": "[19:38:08] /Users/travis/build/dmlc/xgboost/src/predictor/cpu_predictor.cc:258: Check failed: m->NumColumns() == model.learner_model_param->num_feature (23 vs. 22) : Number of columns in data must equal to trained model.\nStack trace:\n  [bt] (0) 1   libxgboost.dylib                    0x000000014053cde4 dmlc::LogMessageFatal::~LogMessageFatal() + 116\n  [bt] (1) 2   libxgboost.dylib                    0x000000014065852d void xgboost::predictor::CPUPredictor::DispatchedInplacePredict<xgboost::data::ArrayAdapter>(dmlc::any const&, std::__1::shared_ptr<xgboost::DMatrix>, xgboost::gbm::GBTreeModel const&, float, xgboost::PredictionCacheEntry*, unsigned int, unsigned int) const + 365\n  [bt] (2) 3   libxgboost.dylib                    0x0000000140654861 xgboost::predictor::CPUPredictor::InplacePredict(dmlc::any const&, std::__1::shared_ptr<xgboost::DMatrix>, xgboost::gbm::GBTreeModel const&, float, xgboost::PredictionCacheEntry*, unsigned int, unsigned int) const + 401\n  [bt] (3) 4   libxgboost.dylib                    0x00000001405db6c8 xgboost::gbm::GBTree::InplacePredict(dmlc::any const&, std::__1::shared_ptr<xgboost::DMatrix>, float, xgboost::PredictionCacheEntry*, unsigned int, unsigned int) const + 424\n  [bt] (4) 5   libxgboost.dylib                    0x00000001405f014b xgboost::LearnerImpl::InplacePredict(dmlc::any const&, std::__1::shared_ptr<xgboost::DMatrix>, xgboost::PredictionType, float, xgboost::HostDeviceVector<float>**, unsigned int, unsigned int) + 123\n  [bt] (5) 6   libxgboost.dylib                    0x00000001405368cb void InplacePredictImpl<xgboost::data::ArrayAdapter>(std::__1::shared_ptr<xgboost::data::ArrayAdapter>, std::__1::shared_ptr<xgboost::DMatrix>, char const*, xgboost::Learner*, unsigned long, unsigned long, unsigned long long const**, unsigned long long*, float const**) + 843\n  [bt] (6) 7   libxgboost.dylib                    0x0000000140536253 XGBoosterPredictFromDense + 339\n  [bt] (7) 8   libffi.dylib                        0x00007fff6766c905 ffi_call_unix64 + 85\n\n",
     "output_type": "error",
     "traceback": [
      "\u001b[0;31m---------------------------------------------------------------------------\u001b[0m",
      "\u001b[0;31mXGBoostError\u001b[0m                              Traceback (most recent call last)",
      "\u001b[0;32m<ipython-input-28-02d88765538b>\u001b[0m in \u001b[0;36m<module>\u001b[0;34m\u001b[0m\n\u001b[1;32m      1\u001b[0m \u001b[0;32mfrom\u001b[0m \u001b[0msklearn\u001b[0m\u001b[0;34m.\u001b[0m\u001b[0minspection\u001b[0m \u001b[0;32mimport\u001b[0m \u001b[0mplot_partial_dependence\u001b[0m\u001b[0;34m\u001b[0m\u001b[0;34m\u001b[0m\u001b[0m\n\u001b[0;32m----> 2\u001b[0;31m \u001b[0mplot_partial_dependence\u001b[0m\u001b[0;34m(\u001b[0m\u001b[0mclf\u001b[0m\u001b[0;34m,\u001b[0m \u001b[0mnew_df1\u001b[0m\u001b[0;34m,\u001b[0m \u001b[0;34m[\u001b[0m\u001b[0;36m0\u001b[0m\u001b[0;34m,\u001b[0m \u001b[0;36m1\u001b[0m\u001b[0;34m]\u001b[0m\u001b[0;34m)\u001b[0m\u001b[0;34m\u001b[0m\u001b[0;34m\u001b[0m\u001b[0m\n\u001b[0m",
      "\u001b[0;32m/usr/local/lib/python3.9/site-packages/sklearn/utils/validation.py\u001b[0m in \u001b[0;36minner_f\u001b[0;34m(*args, **kwargs)\u001b[0m\n\u001b[1;32m     61\u001b[0m             \u001b[0mextra_args\u001b[0m \u001b[0;34m=\u001b[0m \u001b[0mlen\u001b[0m\u001b[0;34m(\u001b[0m\u001b[0margs\u001b[0m\u001b[0;34m)\u001b[0m \u001b[0;34m-\u001b[0m \u001b[0mlen\u001b[0m\u001b[0;34m(\u001b[0m\u001b[0mall_args\u001b[0m\u001b[0;34m)\u001b[0m\u001b[0;34m\u001b[0m\u001b[0;34m\u001b[0m\u001b[0m\n\u001b[1;32m     62\u001b[0m             \u001b[0;32mif\u001b[0m \u001b[0mextra_args\u001b[0m \u001b[0;34m<=\u001b[0m \u001b[0;36m0\u001b[0m\u001b[0;34m:\u001b[0m\u001b[0;34m\u001b[0m\u001b[0;34m\u001b[0m\u001b[0m\n\u001b[0;32m---> 63\u001b[0;31m                 \u001b[0;32mreturn\u001b[0m \u001b[0mf\u001b[0m\u001b[0;34m(\u001b[0m\u001b[0;34m*\u001b[0m\u001b[0margs\u001b[0m\u001b[0;34m,\u001b[0m \u001b[0;34m**\u001b[0m\u001b[0mkwargs\u001b[0m\u001b[0;34m)\u001b[0m\u001b[0;34m\u001b[0m\u001b[0;34m\u001b[0m\u001b[0m\n\u001b[0m\u001b[1;32m     64\u001b[0m \u001b[0;34m\u001b[0m\u001b[0m\n\u001b[1;32m     65\u001b[0m             \u001b[0;31m# extra_args > 0\u001b[0m\u001b[0;34m\u001b[0m\u001b[0;34m\u001b[0m\u001b[0;34m\u001b[0m\u001b[0m\n",
      "\u001b[0;32m/usr/local/lib/python3.9/site-packages/sklearn/inspection/_plot/partial_dependence.py\u001b[0m in \u001b[0;36mplot_partial_dependence\u001b[0;34m(estimator, X, features, feature_names, target, response_method, n_cols, grid_resolution, percentiles, method, n_jobs, verbose, line_kw, contour_kw, ax, kind, subsample, random_state)\u001b[0m\n\u001b[1;32m    346\u001b[0m \u001b[0;34m\u001b[0m\u001b[0m\n\u001b[1;32m    347\u001b[0m     \u001b[0;31m# compute predictions and/or averaged predictions\u001b[0m\u001b[0;34m\u001b[0m\u001b[0;34m\u001b[0m\u001b[0;34m\u001b[0m\u001b[0m\n\u001b[0;32m--> 348\u001b[0;31m     pd_results = Parallel(n_jobs=n_jobs, verbose=verbose)(\n\u001b[0m\u001b[1;32m    349\u001b[0m         delayed(partial_dependence)(estimator, X, fxs,\n\u001b[1;32m    350\u001b[0m                                     \u001b[0mresponse_method\u001b[0m\u001b[0;34m=\u001b[0m\u001b[0mresponse_method\u001b[0m\u001b[0;34m,\u001b[0m\u001b[0;34m\u001b[0m\u001b[0;34m\u001b[0m\u001b[0m\n",
      "\u001b[0;32m/usr/local/lib/python3.9/site-packages/joblib/parallel.py\u001b[0m in \u001b[0;36m__call__\u001b[0;34m(self, iterable)\u001b[0m\n\u001b[1;32m   1039\u001b[0m             \u001b[0;31m# remaining jobs.\u001b[0m\u001b[0;34m\u001b[0m\u001b[0;34m\u001b[0m\u001b[0;34m\u001b[0m\u001b[0m\n\u001b[1;32m   1040\u001b[0m             \u001b[0mself\u001b[0m\u001b[0;34m.\u001b[0m\u001b[0m_iterating\u001b[0m \u001b[0;34m=\u001b[0m \u001b[0;32mFalse\u001b[0m\u001b[0;34m\u001b[0m\u001b[0;34m\u001b[0m\u001b[0m\n\u001b[0;32m-> 1041\u001b[0;31m             \u001b[0;32mif\u001b[0m \u001b[0mself\u001b[0m\u001b[0;34m.\u001b[0m\u001b[0mdispatch_one_batch\u001b[0m\u001b[0;34m(\u001b[0m\u001b[0miterator\u001b[0m\u001b[0;34m)\u001b[0m\u001b[0;34m:\u001b[0m\u001b[0;34m\u001b[0m\u001b[0;34m\u001b[0m\u001b[0m\n\u001b[0m\u001b[1;32m   1042\u001b[0m                 \u001b[0mself\u001b[0m\u001b[0;34m.\u001b[0m\u001b[0m_iterating\u001b[0m \u001b[0;34m=\u001b[0m \u001b[0mself\u001b[0m\u001b[0;34m.\u001b[0m\u001b[0m_original_iterator\u001b[0m \u001b[0;32mis\u001b[0m \u001b[0;32mnot\u001b[0m \u001b[0;32mNone\u001b[0m\u001b[0;34m\u001b[0m\u001b[0;34m\u001b[0m\u001b[0m\n\u001b[1;32m   1043\u001b[0m \u001b[0;34m\u001b[0m\u001b[0m\n",
      "\u001b[0;32m/usr/local/lib/python3.9/site-packages/joblib/parallel.py\u001b[0m in \u001b[0;36mdispatch_one_batch\u001b[0;34m(self, iterator)\u001b[0m\n\u001b[1;32m    857\u001b[0m                 \u001b[0;32mreturn\u001b[0m \u001b[0;32mFalse\u001b[0m\u001b[0;34m\u001b[0m\u001b[0;34m\u001b[0m\u001b[0m\n\u001b[1;32m    858\u001b[0m             \u001b[0;32melse\u001b[0m\u001b[0;34m:\u001b[0m\u001b[0;34m\u001b[0m\u001b[0;34m\u001b[0m\u001b[0m\n\u001b[0;32m--> 859\u001b[0;31m                 \u001b[0mself\u001b[0m\u001b[0;34m.\u001b[0m\u001b[0m_dispatch\u001b[0m\u001b[0;34m(\u001b[0m\u001b[0mtasks\u001b[0m\u001b[0;34m)\u001b[0m\u001b[0;34m\u001b[0m\u001b[0;34m\u001b[0m\u001b[0m\n\u001b[0m\u001b[1;32m    860\u001b[0m                 \u001b[0;32mreturn\u001b[0m \u001b[0;32mTrue\u001b[0m\u001b[0;34m\u001b[0m\u001b[0;34m\u001b[0m\u001b[0m\n\u001b[1;32m    861\u001b[0m \u001b[0;34m\u001b[0m\u001b[0m\n",
      "\u001b[0;32m/usr/local/lib/python3.9/site-packages/joblib/parallel.py\u001b[0m in \u001b[0;36m_dispatch\u001b[0;34m(self, batch)\u001b[0m\n\u001b[1;32m    775\u001b[0m         \u001b[0;32mwith\u001b[0m \u001b[0mself\u001b[0m\u001b[0;34m.\u001b[0m\u001b[0m_lock\u001b[0m\u001b[0;34m:\u001b[0m\u001b[0;34m\u001b[0m\u001b[0;34m\u001b[0m\u001b[0m\n\u001b[1;32m    776\u001b[0m             \u001b[0mjob_idx\u001b[0m \u001b[0;34m=\u001b[0m \u001b[0mlen\u001b[0m\u001b[0;34m(\u001b[0m\u001b[0mself\u001b[0m\u001b[0;34m.\u001b[0m\u001b[0m_jobs\u001b[0m\u001b[0;34m)\u001b[0m\u001b[0;34m\u001b[0m\u001b[0;34m\u001b[0m\u001b[0m\n\u001b[0;32m--> 777\u001b[0;31m             \u001b[0mjob\u001b[0m \u001b[0;34m=\u001b[0m \u001b[0mself\u001b[0m\u001b[0;34m.\u001b[0m\u001b[0m_backend\u001b[0m\u001b[0;34m.\u001b[0m\u001b[0mapply_async\u001b[0m\u001b[0;34m(\u001b[0m\u001b[0mbatch\u001b[0m\u001b[0;34m,\u001b[0m \u001b[0mcallback\u001b[0m\u001b[0;34m=\u001b[0m\u001b[0mcb\u001b[0m\u001b[0;34m)\u001b[0m\u001b[0;34m\u001b[0m\u001b[0;34m\u001b[0m\u001b[0m\n\u001b[0m\u001b[1;32m    778\u001b[0m             \u001b[0;31m# A job can complete so quickly than its callback is\u001b[0m\u001b[0;34m\u001b[0m\u001b[0;34m\u001b[0m\u001b[0;34m\u001b[0m\u001b[0m\n\u001b[1;32m    779\u001b[0m             \u001b[0;31m# called before we get here, causing self._jobs to\u001b[0m\u001b[0;34m\u001b[0m\u001b[0;34m\u001b[0m\u001b[0;34m\u001b[0m\u001b[0m\n",
      "\u001b[0;32m/usr/local/lib/python3.9/site-packages/joblib/_parallel_backends.py\u001b[0m in \u001b[0;36mapply_async\u001b[0;34m(self, func, callback)\u001b[0m\n\u001b[1;32m    206\u001b[0m     \u001b[0;32mdef\u001b[0m \u001b[0mapply_async\u001b[0m\u001b[0;34m(\u001b[0m\u001b[0mself\u001b[0m\u001b[0;34m,\u001b[0m \u001b[0mfunc\u001b[0m\u001b[0;34m,\u001b[0m \u001b[0mcallback\u001b[0m\u001b[0;34m=\u001b[0m\u001b[0;32mNone\u001b[0m\u001b[0;34m)\u001b[0m\u001b[0;34m:\u001b[0m\u001b[0;34m\u001b[0m\u001b[0;34m\u001b[0m\u001b[0m\n\u001b[1;32m    207\u001b[0m         \u001b[0;34m\"\"\"Schedule a func to be run\"\"\"\u001b[0m\u001b[0;34m\u001b[0m\u001b[0;34m\u001b[0m\u001b[0m\n\u001b[0;32m--> 208\u001b[0;31m         \u001b[0mresult\u001b[0m \u001b[0;34m=\u001b[0m \u001b[0mImmediateResult\u001b[0m\u001b[0;34m(\u001b[0m\u001b[0mfunc\u001b[0m\u001b[0;34m)\u001b[0m\u001b[0;34m\u001b[0m\u001b[0;34m\u001b[0m\u001b[0m\n\u001b[0m\u001b[1;32m    209\u001b[0m         \u001b[0;32mif\u001b[0m \u001b[0mcallback\u001b[0m\u001b[0;34m:\u001b[0m\u001b[0;34m\u001b[0m\u001b[0;34m\u001b[0m\u001b[0m\n\u001b[1;32m    210\u001b[0m             \u001b[0mcallback\u001b[0m\u001b[0;34m(\u001b[0m\u001b[0mresult\u001b[0m\u001b[0;34m)\u001b[0m\u001b[0;34m\u001b[0m\u001b[0;34m\u001b[0m\u001b[0m\n",
      "\u001b[0;32m/usr/local/lib/python3.9/site-packages/joblib/_parallel_backends.py\u001b[0m in \u001b[0;36m__init__\u001b[0;34m(self, batch)\u001b[0m\n\u001b[1;32m    570\u001b[0m         \u001b[0;31m# Don't delay the application, to avoid keeping the input\u001b[0m\u001b[0;34m\u001b[0m\u001b[0;34m\u001b[0m\u001b[0;34m\u001b[0m\u001b[0m\n\u001b[1;32m    571\u001b[0m         \u001b[0;31m# arguments in memory\u001b[0m\u001b[0;34m\u001b[0m\u001b[0;34m\u001b[0m\u001b[0;34m\u001b[0m\u001b[0m\n\u001b[0;32m--> 572\u001b[0;31m         \u001b[0mself\u001b[0m\u001b[0;34m.\u001b[0m\u001b[0mresults\u001b[0m \u001b[0;34m=\u001b[0m \u001b[0mbatch\u001b[0m\u001b[0;34m(\u001b[0m\u001b[0;34m)\u001b[0m\u001b[0;34m\u001b[0m\u001b[0;34m\u001b[0m\u001b[0m\n\u001b[0m\u001b[1;32m    573\u001b[0m \u001b[0;34m\u001b[0m\u001b[0m\n\u001b[1;32m    574\u001b[0m     \u001b[0;32mdef\u001b[0m \u001b[0mget\u001b[0m\u001b[0;34m(\u001b[0m\u001b[0mself\u001b[0m\u001b[0;34m)\u001b[0m\u001b[0;34m:\u001b[0m\u001b[0;34m\u001b[0m\u001b[0;34m\u001b[0m\u001b[0m\n",
      "\u001b[0;32m/usr/local/lib/python3.9/site-packages/joblib/parallel.py\u001b[0m in \u001b[0;36m__call__\u001b[0;34m(self)\u001b[0m\n\u001b[1;32m    260\u001b[0m         \u001b[0;31m# change the default number of processes to -1\u001b[0m\u001b[0;34m\u001b[0m\u001b[0;34m\u001b[0m\u001b[0;34m\u001b[0m\u001b[0m\n\u001b[1;32m    261\u001b[0m         \u001b[0;32mwith\u001b[0m \u001b[0mparallel_backend\u001b[0m\u001b[0;34m(\u001b[0m\u001b[0mself\u001b[0m\u001b[0;34m.\u001b[0m\u001b[0m_backend\u001b[0m\u001b[0;34m,\u001b[0m \u001b[0mn_jobs\u001b[0m\u001b[0;34m=\u001b[0m\u001b[0mself\u001b[0m\u001b[0;34m.\u001b[0m\u001b[0m_n_jobs\u001b[0m\u001b[0;34m)\u001b[0m\u001b[0;34m:\u001b[0m\u001b[0;34m\u001b[0m\u001b[0;34m\u001b[0m\u001b[0m\n\u001b[0;32m--> 262\u001b[0;31m             return [func(*args, **kwargs)\n\u001b[0m\u001b[1;32m    263\u001b[0m                     for func, args, kwargs in self.items]\n\u001b[1;32m    264\u001b[0m \u001b[0;34m\u001b[0m\u001b[0m\n",
      "\u001b[0;32m/usr/local/lib/python3.9/site-packages/joblib/parallel.py\u001b[0m in \u001b[0;36m<listcomp>\u001b[0;34m(.0)\u001b[0m\n\u001b[1;32m    260\u001b[0m         \u001b[0;31m# change the default number of processes to -1\u001b[0m\u001b[0;34m\u001b[0m\u001b[0;34m\u001b[0m\u001b[0;34m\u001b[0m\u001b[0m\n\u001b[1;32m    261\u001b[0m         \u001b[0;32mwith\u001b[0m \u001b[0mparallel_backend\u001b[0m\u001b[0;34m(\u001b[0m\u001b[0mself\u001b[0m\u001b[0;34m.\u001b[0m\u001b[0m_backend\u001b[0m\u001b[0;34m,\u001b[0m \u001b[0mn_jobs\u001b[0m\u001b[0;34m=\u001b[0m\u001b[0mself\u001b[0m\u001b[0;34m.\u001b[0m\u001b[0m_n_jobs\u001b[0m\u001b[0;34m)\u001b[0m\u001b[0;34m:\u001b[0m\u001b[0;34m\u001b[0m\u001b[0;34m\u001b[0m\u001b[0m\n\u001b[0;32m--> 262\u001b[0;31m             return [func(*args, **kwargs)\n\u001b[0m\u001b[1;32m    263\u001b[0m                     for func, args, kwargs in self.items]\n\u001b[1;32m    264\u001b[0m \u001b[0;34m\u001b[0m\u001b[0m\n",
      "\u001b[0;32m/usr/local/lib/python3.9/site-packages/sklearn/utils/fixes.py\u001b[0m in \u001b[0;36m__call__\u001b[0;34m(self, *args, **kwargs)\u001b[0m\n\u001b[1;32m    220\u001b[0m     \u001b[0;32mdef\u001b[0m \u001b[0m__call__\u001b[0m\u001b[0;34m(\u001b[0m\u001b[0mself\u001b[0m\u001b[0;34m,\u001b[0m \u001b[0;34m*\u001b[0m\u001b[0margs\u001b[0m\u001b[0;34m,\u001b[0m \u001b[0;34m**\u001b[0m\u001b[0mkwargs\u001b[0m\u001b[0;34m)\u001b[0m\u001b[0;34m:\u001b[0m\u001b[0;34m\u001b[0m\u001b[0;34m\u001b[0m\u001b[0m\n\u001b[1;32m    221\u001b[0m         \u001b[0;32mwith\u001b[0m \u001b[0mconfig_context\u001b[0m\u001b[0;34m(\u001b[0m\u001b[0;34m**\u001b[0m\u001b[0mself\u001b[0m\u001b[0;34m.\u001b[0m\u001b[0mconfig\u001b[0m\u001b[0;34m)\u001b[0m\u001b[0;34m:\u001b[0m\u001b[0;34m\u001b[0m\u001b[0;34m\u001b[0m\u001b[0m\n\u001b[0;32m--> 222\u001b[0;31m             \u001b[0;32mreturn\u001b[0m \u001b[0mself\u001b[0m\u001b[0;34m.\u001b[0m\u001b[0mfunction\u001b[0m\u001b[0;34m(\u001b[0m\u001b[0;34m*\u001b[0m\u001b[0margs\u001b[0m\u001b[0;34m,\u001b[0m \u001b[0;34m**\u001b[0m\u001b[0mkwargs\u001b[0m\u001b[0;34m)\u001b[0m\u001b[0;34m\u001b[0m\u001b[0;34m\u001b[0m\u001b[0m\n\u001b[0m",
      "\u001b[0;32m/usr/local/lib/python3.9/site-packages/sklearn/utils/validation.py\u001b[0m in \u001b[0;36minner_f\u001b[0;34m(*args, **kwargs)\u001b[0m\n\u001b[1;32m     61\u001b[0m             \u001b[0mextra_args\u001b[0m \u001b[0;34m=\u001b[0m \u001b[0mlen\u001b[0m\u001b[0;34m(\u001b[0m\u001b[0margs\u001b[0m\u001b[0;34m)\u001b[0m \u001b[0;34m-\u001b[0m \u001b[0mlen\u001b[0m\u001b[0;34m(\u001b[0m\u001b[0mall_args\u001b[0m\u001b[0;34m)\u001b[0m\u001b[0;34m\u001b[0m\u001b[0;34m\u001b[0m\u001b[0m\n\u001b[1;32m     62\u001b[0m             \u001b[0;32mif\u001b[0m \u001b[0mextra_args\u001b[0m \u001b[0;34m<=\u001b[0m \u001b[0;36m0\u001b[0m\u001b[0;34m:\u001b[0m\u001b[0;34m\u001b[0m\u001b[0;34m\u001b[0m\u001b[0m\n\u001b[0;32m---> 63\u001b[0;31m                 \u001b[0;32mreturn\u001b[0m \u001b[0mf\u001b[0m\u001b[0;34m(\u001b[0m\u001b[0;34m*\u001b[0m\u001b[0margs\u001b[0m\u001b[0;34m,\u001b[0m \u001b[0;34m**\u001b[0m\u001b[0mkwargs\u001b[0m\u001b[0;34m)\u001b[0m\u001b[0;34m\u001b[0m\u001b[0;34m\u001b[0m\u001b[0m\n\u001b[0m\u001b[1;32m     64\u001b[0m \u001b[0;34m\u001b[0m\u001b[0m\n\u001b[1;32m     65\u001b[0m             \u001b[0;31m# extra_args > 0\u001b[0m\u001b[0;34m\u001b[0m\u001b[0;34m\u001b[0m\u001b[0;34m\u001b[0m\u001b[0m\n",
      "\u001b[0;32m/usr/local/lib/python3.9/site-packages/sklearn/inspection/_partial_dependence.py\u001b[0m in \u001b[0;36mpartial_dependence\u001b[0;34m(estimator, X, features, response_method, percentiles, grid_resolution, method, kind)\u001b[0m\n\u001b[1;32m    483\u001b[0m \u001b[0;34m\u001b[0m\u001b[0m\n\u001b[1;32m    484\u001b[0m     \u001b[0;32mif\u001b[0m \u001b[0mmethod\u001b[0m \u001b[0;34m==\u001b[0m \u001b[0;34m'brute'\u001b[0m\u001b[0;34m:\u001b[0m\u001b[0;34m\u001b[0m\u001b[0;34m\u001b[0m\u001b[0m\n\u001b[0;32m--> 485\u001b[0;31m         averaged_predictions, predictions = _partial_dependence_brute(\n\u001b[0m\u001b[1;32m    486\u001b[0m             \u001b[0mestimator\u001b[0m\u001b[0;34m,\u001b[0m \u001b[0mgrid\u001b[0m\u001b[0;34m,\u001b[0m \u001b[0mfeatures_indices\u001b[0m\u001b[0;34m,\u001b[0m \u001b[0mX\u001b[0m\u001b[0;34m,\u001b[0m \u001b[0mresponse_method\u001b[0m\u001b[0;34m\u001b[0m\u001b[0;34m\u001b[0m\u001b[0m\n\u001b[1;32m    487\u001b[0m         )\n",
      "\u001b[0;32m/usr/local/lib/python3.9/site-packages/sklearn/inspection/_partial_dependence.py\u001b[0m in \u001b[0;36m_partial_dependence_brute\u001b[0;34m(est, grid, features, X, response_method)\u001b[0m\n\u001b[1;32m    160\u001b[0m             \u001b[0;31m# (n_points, 2) for binary classification\u001b[0m\u001b[0;34m\u001b[0m\u001b[0;34m\u001b[0m\u001b[0;34m\u001b[0m\u001b[0m\n\u001b[1;32m    161\u001b[0m             \u001b[0;31m# (n_points, n_classes) for multiclass classification\u001b[0m\u001b[0;34m\u001b[0m\u001b[0;34m\u001b[0m\u001b[0;34m\u001b[0m\u001b[0m\n\u001b[0;32m--> 162\u001b[0;31m             \u001b[0mpred\u001b[0m \u001b[0;34m=\u001b[0m \u001b[0mprediction_method\u001b[0m\u001b[0;34m(\u001b[0m\u001b[0mX_eval\u001b[0m\u001b[0;34m)\u001b[0m\u001b[0;34m\u001b[0m\u001b[0;34m\u001b[0m\u001b[0m\n\u001b[0m\u001b[1;32m    163\u001b[0m \u001b[0;34m\u001b[0m\u001b[0m\n\u001b[1;32m    164\u001b[0m             \u001b[0mpredictions\u001b[0m\u001b[0;34m.\u001b[0m\u001b[0mappend\u001b[0m\u001b[0;34m(\u001b[0m\u001b[0mpred\u001b[0m\u001b[0;34m)\u001b[0m\u001b[0;34m\u001b[0m\u001b[0;34m\u001b[0m\u001b[0m\n",
      "\u001b[0;32m/usr/local/lib/python3.9/site-packages/xgboost/sklearn.py\u001b[0m in \u001b[0;36mpredict_proba\u001b[0;34m(self, X, ntree_limit, validate_features, base_margin, iteration_range)\u001b[0m\n\u001b[1;32m   1271\u001b[0m         \u001b[0;31m# binary:logistic: Expand the prob vector into 2-class matrix after predict.\u001b[0m\u001b[0;34m\u001b[0m\u001b[0;34m\u001b[0m\u001b[0;34m\u001b[0m\u001b[0m\n\u001b[1;32m   1272\u001b[0m         \u001b[0;31m# binary:logitraw: Unsupported by predict_proba()\u001b[0m\u001b[0;34m\u001b[0m\u001b[0;34m\u001b[0m\u001b[0;34m\u001b[0m\u001b[0m\n\u001b[0;32m-> 1273\u001b[0;31m         class_probs = super().predict(\n\u001b[0m\u001b[1;32m   1274\u001b[0m             \u001b[0mX\u001b[0m\u001b[0;34m=\u001b[0m\u001b[0mX\u001b[0m\u001b[0;34m,\u001b[0m\u001b[0;34m\u001b[0m\u001b[0;34m\u001b[0m\u001b[0m\n\u001b[1;32m   1275\u001b[0m             \u001b[0moutput_margin\u001b[0m\u001b[0;34m=\u001b[0m\u001b[0mself\u001b[0m\u001b[0;34m.\u001b[0m\u001b[0mobjective\u001b[0m \u001b[0;34m==\u001b[0m \u001b[0;34m\"multi:softmax\"\u001b[0m\u001b[0;34m,\u001b[0m\u001b[0;34m\u001b[0m\u001b[0;34m\u001b[0m\u001b[0m\n",
      "\u001b[0;32m/usr/local/lib/python3.9/site-packages/xgboost/sklearn.py\u001b[0m in \u001b[0;36mpredict\u001b[0;34m(self, X, output_margin, ntree_limit, validate_features, base_margin, iteration_range)\u001b[0m\n\u001b[1;32m    818\u001b[0m         \u001b[0;32mif\u001b[0m \u001b[0mself\u001b[0m\u001b[0;34m.\u001b[0m\u001b[0m_can_use_inplace_predict\u001b[0m\u001b[0;34m(\u001b[0m\u001b[0;34m)\u001b[0m\u001b[0;34m:\u001b[0m\u001b[0;34m\u001b[0m\u001b[0;34m\u001b[0m\u001b[0m\n\u001b[1;32m    819\u001b[0m             \u001b[0;32mtry\u001b[0m\u001b[0;34m:\u001b[0m\u001b[0;34m\u001b[0m\u001b[0;34m\u001b[0m\u001b[0m\n\u001b[0;32m--> 820\u001b[0;31m                 predts = self.get_booster().inplace_predict(\n\u001b[0m\u001b[1;32m    821\u001b[0m                     \u001b[0mdata\u001b[0m\u001b[0;34m=\u001b[0m\u001b[0mX\u001b[0m\u001b[0;34m,\u001b[0m\u001b[0;34m\u001b[0m\u001b[0;34m\u001b[0m\u001b[0m\n\u001b[1;32m    822\u001b[0m                     \u001b[0miteration_range\u001b[0m\u001b[0;34m=\u001b[0m\u001b[0miteration_range\u001b[0m\u001b[0;34m,\u001b[0m\u001b[0;34m\u001b[0m\u001b[0;34m\u001b[0m\u001b[0m\n",
      "\u001b[0;32m/usr/local/lib/python3.9/site-packages/xgboost/core.py\u001b[0m in \u001b[0;36minplace_predict\u001b[0;34m(self, data, iteration_range, predict_type, missing, validate_features, base_margin, strict_shape)\u001b[0m\n\u001b[1;32m   1847\u001b[0m             \u001b[0;32mfrom\u001b[0m \u001b[0;34m.\u001b[0m\u001b[0mdata\u001b[0m \u001b[0;32mimport\u001b[0m \u001b[0m_ensure_np_dtype\u001b[0m\u001b[0;34m\u001b[0m\u001b[0;34m\u001b[0m\u001b[0m\n\u001b[1;32m   1848\u001b[0m             \u001b[0mdata\u001b[0m\u001b[0;34m,\u001b[0m \u001b[0m_\u001b[0m \u001b[0;34m=\u001b[0m \u001b[0m_ensure_np_dtype\u001b[0m\u001b[0;34m(\u001b[0m\u001b[0mdata\u001b[0m\u001b[0;34m,\u001b[0m \u001b[0mdata\u001b[0m\u001b[0;34m.\u001b[0m\u001b[0mdtype\u001b[0m\u001b[0;34m)\u001b[0m\u001b[0;34m\u001b[0m\u001b[0;34m\u001b[0m\u001b[0m\n\u001b[0;32m-> 1849\u001b[0;31m             _check_call(\n\u001b[0m\u001b[1;32m   1850\u001b[0m                 _LIB.XGBoosterPredictFromDense(\n\u001b[1;32m   1851\u001b[0m                     \u001b[0mself\u001b[0m\u001b[0;34m.\u001b[0m\u001b[0mhandle\u001b[0m\u001b[0;34m,\u001b[0m\u001b[0;34m\u001b[0m\u001b[0;34m\u001b[0m\u001b[0m\n",
      "\u001b[0;32m/usr/local/lib/python3.9/site-packages/xgboost/core.py\u001b[0m in \u001b[0;36m_check_call\u001b[0;34m(ret)\u001b[0m\n\u001b[1;32m    208\u001b[0m     \"\"\"\n\u001b[1;32m    209\u001b[0m     \u001b[0;32mif\u001b[0m \u001b[0mret\u001b[0m \u001b[0;34m!=\u001b[0m \u001b[0;36m0\u001b[0m\u001b[0;34m:\u001b[0m\u001b[0;34m\u001b[0m\u001b[0;34m\u001b[0m\u001b[0m\n\u001b[0;32m--> 210\u001b[0;31m         \u001b[0;32mraise\u001b[0m \u001b[0mXGBoostError\u001b[0m\u001b[0;34m(\u001b[0m\u001b[0mpy_str\u001b[0m\u001b[0;34m(\u001b[0m\u001b[0m_LIB\u001b[0m\u001b[0;34m.\u001b[0m\u001b[0mXGBGetLastError\u001b[0m\u001b[0;34m(\u001b[0m\u001b[0;34m)\u001b[0m\u001b[0;34m)\u001b[0m\u001b[0;34m)\u001b[0m\u001b[0;34m\u001b[0m\u001b[0;34m\u001b[0m\u001b[0m\n\u001b[0m\u001b[1;32m    211\u001b[0m \u001b[0;34m\u001b[0m\u001b[0m\n\u001b[1;32m    212\u001b[0m \u001b[0;34m\u001b[0m\u001b[0m\n",
      "\u001b[0;31mXGBoostError\u001b[0m: [19:38:08] /Users/travis/build/dmlc/xgboost/src/predictor/cpu_predictor.cc:258: Check failed: m->NumColumns() == model.learner_model_param->num_feature (23 vs. 22) : Number of columns in data must equal to trained model.\nStack trace:\n  [bt] (0) 1   libxgboost.dylib                    0x000000014053cde4 dmlc::LogMessageFatal::~LogMessageFatal() + 116\n  [bt] (1) 2   libxgboost.dylib                    0x000000014065852d void xgboost::predictor::CPUPredictor::DispatchedInplacePredict<xgboost::data::ArrayAdapter>(dmlc::any const&, std::__1::shared_ptr<xgboost::DMatrix>, xgboost::gbm::GBTreeModel const&, float, xgboost::PredictionCacheEntry*, unsigned int, unsigned int) const + 365\n  [bt] (2) 3   libxgboost.dylib                    0x0000000140654861 xgboost::predictor::CPUPredictor::InplacePredict(dmlc::any const&, std::__1::shared_ptr<xgboost::DMatrix>, xgboost::gbm::GBTreeModel const&, float, xgboost::PredictionCacheEntry*, unsigned int, unsigned int) const + 401\n  [bt] (3) 4   libxgboost.dylib                    0x00000001405db6c8 xgboost::gbm::GBTree::InplacePredict(dmlc::any const&, std::__1::shared_ptr<xgboost::DMatrix>, float, xgboost::PredictionCacheEntry*, unsigned int, unsigned int) const + 424\n  [bt] (4) 5   libxgboost.dylib                    0x00000001405f014b xgboost::LearnerImpl::InplacePredict(dmlc::any const&, std::__1::shared_ptr<xgboost::DMatrix>, xgboost::PredictionType, float, xgboost::HostDeviceVector<float>**, unsigned int, unsigned int) + 123\n  [bt] (5) 6   libxgboost.dylib                    0x00000001405368cb void InplacePredictImpl<xgboost::data::ArrayAdapter>(std::__1::shared_ptr<xgboost::data::ArrayAdapter>, std::__1::shared_ptr<xgboost::DMatrix>, char const*, xgboost::Learner*, unsigned long, unsigned long, unsigned long long const**, unsigned long long*, float const**) + 843\n  [bt] (6) 7   libxgboost.dylib                    0x0000000140536253 XGBoosterPredictFromDense + 339\n  [bt] (7) 8   libffi.dylib                        0x00007fff6766c905 ffi_call_unix64 + 85\n\n"
     ]
    }
   ],
   "source": [
    "# from sklearn.inspection import plot_partial_dependence\n",
    "# plot_partial_dependence(clf, new_df1, [0, 1]) "
   ]
  },
  {
   "cell_type": "code",
   "execution_count": 14,
   "id": "c24cbb8c",
   "metadata": {},
   "outputs": [],
   "source": [
    "def plot_roc(fpr, tpr, roc_auc):\n",
    "    plt.plot(fpr, tpr)\n",
    "    plt.plot([0, 1], [0, 1], 'k--')\n",
    "    plt.xlim([0.0, 1.0])\n",
    "    plt.ylim([0.0, 1.05])\n",
    "    plt.xlabel('False Positive Rate')\n",
    "    plt.ylabel('True Positive Rate')\n",
    "    plt.title('ROC curve (area = %0.6f)' % roc_auc)\n",
    "    plt.legend(loc=\"lower right\")\n",
    "    plt.show()\n",
    "\n",
    "\n",
    "def plot_pr(recall,precision,average_precision):\n",
    "    plt.step(recall, precision, color='b', alpha=0.2, where='post')\n",
    "    plt.fill_between(recall, precision, step='post', alpha=0.2, color='b')\n",
    "    plt.xlabel('Recall')\n",
    "    plt.ylabel('Precision')\n",
    "    plt.ylim([0.0, 1.05])\n",
    "    plt.xlim([0.0, 1.0])\n",
    "    plt.title('Precision-Recall: {0:0.6f}'.format(average_precision))\n",
    "    plt.show()\n",
    "\n",
    "    \n",
    "def plot_learning_curve(results,epochs):\n",
    "    x_axis = range(0, epochs)\n",
    "    fig, ax = plt.subplots()\n",
    "    ax.plot(x_axis, results['validation_0']['logloss'], label='logloss-Train')\n",
    "    ax.plot(x_axis, results['validation_1']['logloss'], label='logloss-Test')\n",
    "    ax.plot(x_axis, results['validation_0']['auc'], label='auc-Train')\n",
    "    ax.plot(x_axis, results['validation_1']['auc'], label='auc-Test')\n",
    "    ax.legend()\n",
    "    plt.ylabel('Log Loss/AUC')\n",
    "    plt.title('XGBoost Log Loss and AUC evolution')\n",
    "    plt.show()\n",
    "\n",
    "\n",
    "def run_xgboost_and_calculate_auc(df,\n",
    "                                  target='target',\n",
    "                                  drop='variable_to_find_and_exclude',\n",
    "                                  w=1,\n",
    "                                  plot_variables=False,\n",
    "                                  plot_ROC_PR=False,\n",
    "                                  plot_confusion=False,\n",
    "                                  learning_rate=0.05,\n",
    "                                  max_depth=10,\n",
    "                                  esr=10,\n",
    "                                  CV=True,\n",
    "                                  title='',\n",
    "                                  plot_all=False,\n",
    "                                  ensembler=False,\n",
    "                                  test_size=.2):\n",
    "    '''\n",
    "    Generic function to run xgboost to test the added changes and plot roc, learning and others and save the model.\n",
    "    '''\n",
    "    # features\n",
    "    X = df.drop(target, axis=1)\n",
    "    X = pd.get_dummies(X)\n",
    "    \n",
    "    # targets\n",
    "    Y = df[target]\n",
    "\n",
    "    X_train, X_test, Y_train, Y_test = train_test_split(X, Y,\n",
    "                                                        test_size=test_size,\n",
    "                                                        random_state=12345,\n",
    "                                                        stratify=Y)\n",
    "\n",
    "    print(f'variables: {len(list(X))}, rows:{len(X)}, flags:{sum(list(df[target]))}')\n",
    "    \n",
    "        \n",
    "    clf = xgb.XGBClassifier(max_depth=5, n_estimators=30,objective='binary:logistic')\n",
    "\n",
    "    eval_set = [(X_train, Y_train), (X_test, Y_test)]\n",
    "\n",
    "    if plot_all:\n",
    "        plot_learning=True\n",
    "        plot_variables=True\n",
    "        plot_ROC_PR=True\n",
    "        plot_confusion=True\n",
    "        plot_graph_tree=True\n",
    "        \n",
    "    if CV:\n",
    "        X = pd.concat([X_train,X_test])\n",
    "        y = pd.concat([Y_train,Y_test])\n",
    "        xgb_param = clf.get_xgb_params()\n",
    "        xgtrain = xgb.DMatrix(X.values, y.values)\n",
    "        cvresult = xgb.cv(xgb_param,\n",
    "                          xgtrain,\n",
    "                          num_boost_round=clf.get_params()['n_estimators'],\n",
    "                          nfold=5,\n",
    "                          metrics='auc',\n",
    "                          early_stopping_rounds=esr)\n",
    "        print(cvresult.tail(1))\n",
    "        clf.set_params(n_estimators=cvresult.shape[0])\n",
    "\n",
    "    clf.fit(X_train,\n",
    "            Y_train,\n",
    "            early_stopping_rounds=25,\n",
    "            eval_metric=['auc','error','logloss'],\n",
    "            eval_set=eval_set,\n",
    "            verbose=False)\n",
    "\n",
    "    Y_pred = clf.predict_proba(X_test)\n",
    "    y_true = np.array(Y_test)\n",
    "    y_scores = Y_pred[:, 1]\n",
    "\n",
    "    fpr, tpr, _ = roc_curve(Y_test, y_scores)\n",
    "    roc_auc = auc(fpr, tpr)\n",
    "    average_precision = average_precision_score(Y_test, y_scores)\n",
    "    precision, recall, _ = precision_recall_curve(Y_test, y_scores)\n",
    "    \n",
    "    if plot_ROC_PR:\n",
    "        plot_roc(fpr, tpr, roc_auc)\n",
    "        plot_pr(recall,precision,average_precision)\n",
    "    else:\n",
    "        print('Area under ROC: %0.6f' % roc_auc)\n",
    "\n",
    "    print(\"plotting variables of importance\")\n",
    "    if plot_variables:\n",
    "        xgb.plot_importance(clf,max_num_features=20,importance_type='gain',xlabel='gain')\n",
    "    \n",
    "    print('\\n', classification_report(y_true, y_scores.round()))\n",
    "        \n",
    "    if ensembler:\n",
    "        return Y_test,Y_pred, y_scores\n",
    "\n",
    "    print('-------------END EXECUTION-------------')"
   ]
  },
  {
   "cell_type": "code",
   "execution_count": 15,
   "id": "ee535bf1",
   "metadata": {
    "scrolled": true
   },
   "outputs": [
    {
     "name": "stdout",
     "output_type": "stream",
     "text": [
      "variables: 22, rows:36617, flags:16106\n",
      "    train-auc-mean  train-auc-std  test-auc-mean  test-auc-std\n",
      "29        0.881614       0.005925       0.842118      0.006077\n"
     ]
    },
    {
     "name": "stderr",
     "output_type": "stream",
     "text": [
      "/usr/local/lib/python3.9/site-packages/xgboost/sklearn.py:1146: UserWarning: The use of label encoder in XGBClassifier is deprecated and will be removed in a future release. To remove this warning, do the following: 1) Pass option use_label_encoder=False when constructing XGBClassifier object; and 2) Encode your labels (y) as integers starting with 0, i.e. 0, 1, 2, ..., [num_class - 1].\n",
      "  warnings.warn(label_encoder_deprecation_msg, UserWarning)\n",
      "No handles with labels found to put in legend.\n"
     ]
    },
    {
     "data": {
      "image/png": "[encoded data removed]",
      "text/plain": [
       "<Figure size 432x288 with 1 Axes>"
      ]
     },
     "metadata": {
      "needs_background": "light"
     },
     "output_type": "display_data"
    },
    {
     "data": {
      "image/png": "[encoded data removed]",
      "text/plain": [
       "<Figure size 432x288 with 1 Axes>"
      ]
     },
     "metadata": {
      "needs_background": "light"
     },
     "output_type": "display_data"
    },
    {
     "name": "stdout",
     "output_type": "stream",
     "text": [
      "plotting variables of importance\n",
      "\n",
      "               precision    recall  f1-score   support\n",
      "\n",
      "           0       0.72      0.90      0.80      4103\n",
      "           1       0.81      0.56      0.66      3221\n",
      "\n",
      "    accuracy                           0.75      7324\n",
      "   macro avg       0.77      0.73      0.73      7324\n",
      "weighted avg       0.76      0.75      0.74      7324\n",
      "\n"
     ]
    },
    {
     "data": {
      "image/png": "[encoded data removed]",
      "text/plain": [
       "<Figure size 432x288 with 1 Axes>"
      ]
     },
     "metadata": {
      "needs_background": "light"
     },
     "output_type": "display_data"
    }
   ],
   "source": [
    "#ROC curves are appropriate when the observations are balanced between each class, \n",
    "#whereas precision-recall curves are appropriate for imbalanced datasets.\n",
    "Y_test, Y_pred,y_scores = run_xgboost_and_calculate_auc(new_df1,target='bad_thing',plot_all=True,ensembler=True)\n"
   ]
  },
  {
   "cell_type": "markdown",
   "id": "dde4c0f5",
   "metadata": {},
   "source": [
    "<!-- From confusion matrix above, we always guess 0 and 1 correctly. However, \n",
    "precision= true positive/(true positive+false positive). Out of all positives guessed, we have a few false positives\n",
    "\n",
    "recall=true positive/(true positive+false negative). We have many false negative(0). \n",
    " -->\n",
    " \n",
    " From confusion matrix above, we always guess 0 and 1 correctly. However, \n",
    "precision= true positive/(true positive+false positive). Out of all positives guessed, we have a few false positives\n",
    "\n",
    "recall=true positive/(true positive+false negative). We have many false negative(0)\n"
   ]
  },
  {
   "cell_type": "code",
   "execution_count": 16,
   "id": "202a411e",
   "metadata": {},
   "outputs": [
    {
     "name": "stdout",
     "output_type": "stream",
     "text": [
      "(16106, 1)\n",
      "(20511, 1)\n"
     ]
    }
   ],
   "source": [
    "bad=y_df.loc[y_df['bad_thing'] == 1]\n",
    "\n",
    "not_bad=y_df.loc[y_df['bad_thing'] == 0]\n",
    "\n",
    "\n",
    "print(bad.shape)\n",
    "print(not_bad.shape) #imbalanced as expected"
   ]
  },
  {
   "cell_type": "code",
   "execution_count": 17,
   "id": "73f6c4f4",
   "metadata": {},
   "outputs": [
    {
     "data": {
      "text/plain": [
       "7324"
      ]
     },
     "execution_count": 17,
     "metadata": {},
     "output_type": "execute_result"
    }
   ],
   "source": [
    "len(Y_pred)"
   ]
  },
  {
   "cell_type": "code",
   "execution_count": 18,
   "id": "caafb4fb",
   "metadata": {},
   "outputs": [],
   "source": [
    "#train on week1 and test on week2 "
   ]
  },
  {
   "cell_type": "code",
   "execution_count": 19,
   "id": "63c42449",
   "metadata": {},
   "outputs": [
    {
     "data": {
      "text/html": [
       "<div>\n",
       "<style scoped>\n",
       "    .dataframe tbody tr th:only-of-type {\n",
       "        vertical-align: middle;\n",
       "    }\n",
       "\n",
       "    .dataframe tbody tr th {\n",
       "        vertical-align: top;\n",
       "    }\n",
       "\n",
       "    .dataframe thead th {\n",
       "        text-align: right;\n",
       "    }\n",
       "</style>\n",
       "<table border=\"1\" class=\"dataframe\">\n",
       "  <thead>\n",
       "    <tr style=\"text-align: right;\">\n",
       "      <th></th>\n",
       "      <th>frameId</th>\n",
       "      <th>area_block</th>\n",
       "      <th>dist_block</th>\n",
       "      <th>dist_to_qb_block</th>\n",
       "      <th>x_force_block</th>\n",
       "      <th>y_force_block</th>\n",
       "      <th>norm_weighted_x_block</th>\n",
       "      <th>norm_weighted_y_block</th>\n",
       "      <th>area_rush</th>\n",
       "      <th>dist_rush</th>\n",
       "      <th>dist_to_qb_rush</th>\n",
       "      <th>x_force_rush</th>\n",
       "      <th>y_force_rush</th>\n",
       "      <th>norm_weighted_x_rush</th>\n",
       "      <th>norm_weighted_y_rush</th>\n",
       "      <th>X</th>\n",
       "      <th>net_x_force_bottom</th>\n",
       "      <th>net_y_force_bottom</th>\n",
       "      <th>net_x_force_middle</th>\n",
       "      <th>net_y_force_middle</th>\n",
       "      <th>net_x_force_top</th>\n",
       "      <th>net_y_force_top</th>\n",
       "      <th>bad_thing</th>\n",
       "    </tr>\n",
       "  </thead>\n",
       "  <tbody>\n",
       "    <tr>\n",
       "      <th>0</th>\n",
       "      <td>1</td>\n",
       "      <td>109.618567</td>\n",
       "      <td>2.171139</td>\n",
       "      <td>4.494689</td>\n",
       "      <td>0.000000</td>\n",
       "      <td>0.000000</td>\n",
       "      <td>0.000000</td>\n",
       "      <td>0.000000</td>\n",
       "      <td>144.828767</td>\n",
       "      <td>3.396529</td>\n",
       "      <td>6.891559</td>\n",
       "      <td>-21.912800</td>\n",
       "      <td>-36.244576</td>\n",
       "      <td>-19.588667</td>\n",
       "      <td>-33.827938</td>\n",
       "      <td>5996</td>\n",
       "      <td>4.374235</td>\n",
       "      <td>-5.794279</td>\n",
       "      <td>1215.900970</td>\n",
       "      <td>-843.514588</td>\n",
       "      <td>37.465748</td>\n",
       "      <td>-140.117522</td>\n",
       "      <td>0</td>\n",
       "    </tr>\n",
       "    <tr>\n",
       "      <th>1</th>\n",
       "      <td>10</td>\n",
       "      <td>152.038200</td>\n",
       "      <td>2.117770</td>\n",
       "      <td>4.769700</td>\n",
       "      <td>-449.060771</td>\n",
       "      <td>-244.060687</td>\n",
       "      <td>-441.468949</td>\n",
       "      <td>-237.889151</td>\n",
       "      <td>189.972100</td>\n",
       "      <td>2.944900</td>\n",
       "      <td>6.381071</td>\n",
       "      <td>-454.041091</td>\n",
       "      <td>-334.722194</td>\n",
       "      <td>-454.128662</td>\n",
       "      <td>-337.494695</td>\n",
       "      <td>6005</td>\n",
       "      <td>423.823119</td>\n",
       "      <td>-135.410288</td>\n",
       "      <td>1249.112044</td>\n",
       "      <td>-647.467302</td>\n",
       "      <td>297.969015</td>\n",
       "      <td>-202.043712</td>\n",
       "      <td>0</td>\n",
       "    </tr>\n",
       "    <tr>\n",
       "      <th>2</th>\n",
       "      <td>11</td>\n",
       "      <td>190.428600</td>\n",
       "      <td>2.121468</td>\n",
       "      <td>4.858845</td>\n",
       "      <td>-517.257256</td>\n",
       "      <td>-269.930805</td>\n",
       "      <td>-504.583493</td>\n",
       "      <td>-262.012459</td>\n",
       "      <td>107.186900</td>\n",
       "      <td>2.892160</td>\n",
       "      <td>6.352207</td>\n",
       "      <td>-455.287515</td>\n",
       "      <td>-289.861309</td>\n",
       "      <td>-448.540357</td>\n",
       "      <td>-292.605487</td>\n",
       "      <td>6006</td>\n",
       "      <td>516.441275</td>\n",
       "      <td>-174.603879</td>\n",
       "      <td>1218.401406</td>\n",
       "      <td>-513.742333</td>\n",
       "      <td>357.995673</td>\n",
       "      <td>-203.535207</td>\n",
       "      <td>0</td>\n",
       "    </tr>\n",
       "  </tbody>\n",
       "</table>\n",
       "</div>"
      ],
      "text/plain": [
       "   frameId  area_block  dist_block  dist_to_qb_block  x_force_block  \\\n",
       "0        1  109.618567    2.171139          4.494689       0.000000   \n",
       "1       10  152.038200    2.117770          4.769700    -449.060771   \n",
       "2       11  190.428600    2.121468          4.858845    -517.257256   \n",
       "\n",
       "   y_force_block  norm_weighted_x_block  norm_weighted_y_block   area_rush  \\\n",
       "0       0.000000               0.000000               0.000000  144.828767   \n",
       "1    -244.060687            -441.468949            -237.889151  189.972100   \n",
       "2    -269.930805            -504.583493            -262.012459  107.186900   \n",
       "\n",
       "   dist_rush  dist_to_qb_rush  x_force_rush  y_force_rush  \\\n",
       "0   3.396529         6.891559    -21.912800    -36.244576   \n",
       "1   2.944900         6.381071   -454.041091   -334.722194   \n",
       "2   2.892160         6.352207   -455.287515   -289.861309   \n",
       "\n",
       "   norm_weighted_x_rush  norm_weighted_y_rush     X  net_x_force_bottom  \\\n",
       "0            -19.588667            -33.827938  5996            4.374235   \n",
       "1           -454.128662           -337.494695  6005          423.823119   \n",
       "2           -448.540357           -292.605487  6006          516.441275   \n",
       "\n",
       "   net_y_force_bottom  net_x_force_middle  net_y_force_middle  \\\n",
       "0           -5.794279         1215.900970         -843.514588   \n",
       "1         -135.410288         1249.112044         -647.467302   \n",
       "2         -174.603879         1218.401406         -513.742333   \n",
       "\n",
       "   net_x_force_top  net_y_force_top  bad_thing  \n",
       "0        37.465748      -140.117522          0  \n",
       "1       297.969015      -202.043712          0  \n",
       "2       357.995673      -203.535207          0  "
      ]
     },
     "execution_count": 19,
     "metadata": {},
     "output_type": "execute_result"
    }
   ],
   "source": [
    "meow=pd.read_csv(\"/Users/joonghochoi/Desktop/NFLBigDataBowl/NFL/features_all_2.csv\")\n",
    "meow=meow.drop(columns=['Unnamed: 0','playId','gameId','hit','hurry','sack'])\n",
    "meow.head(3)"
   ]
  },
  {
   "cell_type": "code",
   "execution_count": 20,
   "id": "14f03fee",
   "metadata": {},
   "outputs": [],
   "source": [
    "\n",
    "def run_xgboost_and_calculate_auc1(df,\n",
    "                                  target='target',\n",
    "                                  drop='variable_to_find_and_exclude',\n",
    "                                  w=1,\n",
    "                                  plot_variables=False,\n",
    "                                  plot_ROC_PR=False,\n",
    "                                  plot_confusion=False,\n",
    "                                  learning_rate=0.05,\n",
    "                                  max_depth=10,\n",
    "                                  esr=10,\n",
    "                                  CV=True,\n",
    "                                  title='',\n",
    "                                  plot_all=False,\n",
    "                                  ensembler=False,\n",
    "                                  test_size=.2\n",
    "                                 ):\n",
    "    '''\n",
    "    Generic function to run xgboost to test the added changes and plot roc, learning and others and save the model.\n",
    "    '''\n",
    "    # features\n",
    "    X = df.drop(target, axis=1)\n",
    "    X = pd.get_dummies(X)\n",
    "    \n",
    "    # targets\n",
    "    Y = df[target]\n",
    "    \n",
    "    X_train=X\n",
    "    Y_train=Y\n",
    "    \n",
    "    X_test=meow[meow.columns[~meow.columns.isin(['bad_thing'])]]\n",
    "    Y_test=meow[meow.columns[meow.columns.isin(['bad_thing'])]]\n",
    "\n",
    "    \n",
    "\n",
    "    print(f'variables: {len(list(X))}, rows:{len(X)}, flags:{sum(list(df[target]))}')\n",
    "    \n",
    "        \n",
    "    clf = xgb.XGBClassifier(max_depth=5, n_estimators=30,objective='binary:logistic')\n",
    "\n",
    "    eval_set = [(X_train, Y_train), (X_test, Y_test)]\n",
    "\n",
    "    if plot_all:\n",
    "        plot_learning=True\n",
    "        plot_variables=True\n",
    "        plot_ROC_PR=True\n",
    "        plot_confusion=True\n",
    "        plot_graph_tree=True\n",
    "        \n",
    "#     if CV:\n",
    "#         X = pd.concat([X_train,X_test])\n",
    "#         y = pd.concat([Y_train,Y_test])\n",
    "#         xgb_param = clf.get_xgb_params()\n",
    "#         xgtrain = xgb.DMatrix(X.values, y.values)\n",
    "#         cvresult = xgb.cv(xgb_param,\n",
    "#                           xgtrain,\n",
    "#                           num_boost_round=clf.get_params()['n_estimators'],\n",
    "#                           nfold=5,\n",
    "#                           metrics='auc',\n",
    "#                           early_stopping_rounds=esr)\n",
    "#         print(cvresult.tail(1))\n",
    "#         clf.set_params(n_estimators=cvresult.shape[0])\n",
    "\n",
    "    clf.fit(X_train,\n",
    "            Y_train,\n",
    "            early_stopping_rounds=25,\n",
    "            eval_metric=['auc','error','logloss'],\n",
    "            eval_set=eval_set,\n",
    "            verbose=False)\n",
    "    print(\"it works until prediction\")\n",
    "    Y_pred = clf.predict_proba(X_test)\n",
    "    y_true = np.array(Y_test)\n",
    "    y_scores = Y_pred[:, 1]\n",
    "\n",
    "    fpr, tpr, _ = roc_curve(Y_test, y_scores)\n",
    "    roc_auc = auc(fpr, tpr)\n",
    "    average_precision = average_precision_score(Y_test, y_scores)\n",
    "    precision, recall, _ = precision_recall_curve(Y_test, y_scores)\n",
    "    \n",
    "    if plot_ROC_PR:\n",
    "        plot_roc(fpr, tpr, roc_auc)\n",
    "        plot_pr(recall,precision,average_precision)\n",
    "    else:\n",
    "        print('Area under ROC: %0.6f' % roc_auc)\n",
    "\n",
    "    print(\"plotting variables of importance\")\n",
    "    if plot_variables:\n",
    "        xgb.plot_importance(clf,max_num_features=20,importance_type='gain',xlabel='gain')\n",
    "    \n",
    "    print('\\n', classification_report(y_true, y_scores.round()))\n",
    "        \n",
    "    if ensembler:\n",
    "        return Y_test,Y_pred, y_scores\n",
    "\n",
    "    print('-------------END EXECUTION-------------')"
   ]
  },
  {
   "cell_type": "code",
   "execution_count": 79,
   "id": "9b03f014",
   "metadata": {},
   "outputs": [
    {
     "name": "stdout",
     "output_type": "stream",
     "text": [
      "variables: 22, rows:36617, flags:16106\n"
     ]
    },
    {
     "name": "stderr",
     "output_type": "stream",
     "text": [
      "/usr/local/lib/python3.9/site-packages/xgboost/sklearn.py:1146: UserWarning: The use of label encoder in XGBClassifier is deprecated and will be removed in a future release. To remove this warning, do the following: 1) Pass option use_label_encoder=False when constructing XGBClassifier object; and 2) Encode your labels (y) as integers starting with 0, i.e. 0, 1, 2, ..., [num_class - 1].\n",
      "  warnings.warn(label_encoder_deprecation_msg, UserWarning)\n",
      "/usr/local/lib/python3.9/site-packages/sklearn/utils/validation.py:63: DataConversionWarning: A column-vector y was passed when a 1d array was expected. Please change the shape of y to (n_samples, ), for example using ravel().\n",
      "  return f(*args, **kwargs)\n",
      "No handles with labels found to put in legend.\n"
     ]
    },
    {
     "name": "stdout",
     "output_type": "stream",
     "text": [
      "it works until prediction\n"
     ]
    },
    {
     "data": {
      "image/png": "[encoded data removed]",
      "text/plain": [
       "<Figure size 432x288 with 1 Axes>"
      ]
     },
     "metadata": {
      "needs_background": "light"
     },
     "output_type": "display_data"
    },
    {
     "data": {
      "image/png": "[encoded data removed]",
      "text/plain": [
       "<Figure size 432x288 with 1 Axes>"
      ]
     },
     "metadata": {
      "needs_background": "light"
     },
     "output_type": "display_data"
    },
    {
     "name": "stdout",
     "output_type": "stream",
     "text": [
      "plotting variables of importance\n",
      "\n",
      "               precision    recall  f1-score   support\n",
      "\n",
      "           0       0.62      0.86      0.72     19285\n",
      "           1       0.65      0.34      0.44     15160\n",
      "\n",
      "    accuracy                           0.63     34445\n",
      "   macro avg       0.64      0.60      0.58     34445\n",
      "weighted avg       0.64      0.63      0.60     34445\n",
      "\n"
     ]
    },
    {
     "data": {
      "image/png": "[encoded data removed]",
      "text/plain": [
       "<Figure size 432x288 with 1 Axes>"
      ]
     },
     "metadata": {
      "needs_background": "light"
     },
     "output_type": "display_data"
    }
   ],
   "source": [
    "Y_test, Y_pred,y_scores = run_xgboost_and_calculate_auc1(new_df1,target='bad_thing',plot_all=True,ensembler=True)\n",
    "\n"
   ]
  },
  {
   "cell_type": "code",
   "execution_count": 117,
   "id": "8d2513a5",
   "metadata": {},
   "outputs": [
    {
     "name": "stdout",
     "output_type": "stream",
     "text": [
      "36617\n",
      "34445\n"
     ]
    }
   ],
   "source": [
    "print(len(new_df))\n",
    "new_df2=pd.read_csv(\"/Users/joonghochoi/Desktop/NFLBigDataBowl/NFL/features_all_2.csv\")\n",
    "print(len(new_df2))\n",
    "new_df3=pd.read_csv(\"/Users/joonghochoi/Desktop/NFLBigDataBowl/NFL/features_all_3.csv\")\n",
    "new_df4=pd.read_csv(\"/Users/joonghochoi/Desktop/NFLBigDataBowl/NFL/features_all_4.csv\")\n",
    "new_df5=pd.read_csv(\"/Users/joonghochoi/Desktop/NFLBigDataBowl/NFL/features_all_5.csv\")\n",
    "new_df6=pd.read_csv(\"/Users/joonghochoi/Desktop/NFLBigDataBowl/NFL/features_all_6.csv\")\n",
    "new_df7=pd.read_csv(\"/Users/joonghochoi/Desktop/NFLBigDataBowl/NFL/features_all_7.csv\")\n",
    "new_df8=pd.read_csv(\"/Users/joonghochoi/Desktop/NFLBigDataBowl/NFL/features_all_8.csv\")\n",
    "\n",
    "# week1_6train = pd.concat([new_df, new_df2,new_df3,new_df4,new_df5,new_df6], axis=0)\n",
    "# week7_8test=pd.concat([new_df7,new_df8], axis=0)\n",
    "\n",
    "week1_7train = pd.concat([new_df, new_df2,new_df3,new_df4,new_df5,new_df6,new_df7], axis=0)\n",
    "week8test=new_df8\n",
    "\n"
   ]
  },
  {
   "cell_type": "code",
   "execution_count": 118,
   "id": "9e09dbfb",
   "metadata": {},
   "outputs": [],
   "source": [
    "week1_7train=week1_7train.drop(columns=['Unnamed: 0','playId','gameId','hit','hurry','sack','X'])\n",
    "week8test=week8test.drop(columns=['Unnamed: 0','playId','gameId','hit','hurry','sack','X'])\n"
   ]
  },
  {
   "cell_type": "code",
   "execution_count": 119,
   "id": "1c57a5ca",
   "metadata": {},
   "outputs": [
    {
     "data": {
      "text/html": [
       "<div>\n",
       "<style scoped>\n",
       "    .dataframe tbody tr th:only-of-type {\n",
       "        vertical-align: middle;\n",
       "    }\n",
       "\n",
       "    .dataframe tbody tr th {\n",
       "        vertical-align: top;\n",
       "    }\n",
       "\n",
       "    .dataframe thead th {\n",
       "        text-align: right;\n",
       "    }\n",
       "</style>\n",
       "<table border=\"1\" class=\"dataframe\">\n",
       "  <thead>\n",
       "    <tr style=\"text-align: right;\">\n",
       "      <th></th>\n",
       "      <th>frameId</th>\n",
       "      <th>area_block</th>\n",
       "      <th>dist_block</th>\n",
       "      <th>dist_to_qb_block</th>\n",
       "      <th>x_force_block</th>\n",
       "      <th>y_force_block</th>\n",
       "      <th>norm_weighted_x_block</th>\n",
       "      <th>norm_weighted_y_block</th>\n",
       "      <th>area_rush</th>\n",
       "      <th>dist_rush</th>\n",
       "      <th>dist_to_qb_rush</th>\n",
       "      <th>x_force_rush</th>\n",
       "      <th>y_force_rush</th>\n",
       "      <th>norm_weighted_x_rush</th>\n",
       "      <th>norm_weighted_y_rush</th>\n",
       "      <th>net_x_force_bottom</th>\n",
       "      <th>net_y_force_bottom</th>\n",
       "      <th>net_x_force_middle</th>\n",
       "      <th>net_y_force_middle</th>\n",
       "      <th>net_x_force_top</th>\n",
       "      <th>net_y_force_top</th>\n",
       "      <th>bad_thing</th>\n",
       "    </tr>\n",
       "  </thead>\n",
       "  <tbody>\n",
       "    <tr>\n",
       "      <th>0</th>\n",
       "      <td>1</td>\n",
       "      <td>79.224000</td>\n",
       "      <td>2.165379</td>\n",
       "      <td>4.273408</td>\n",
       "      <td>0.000000</td>\n",
       "      <td>0.000000</td>\n",
       "      <td>0.00000</td>\n",
       "      <td>0.000000</td>\n",
       "      <td>217.635233</td>\n",
       "      <td>3.941905</td>\n",
       "      <td>7.215590</td>\n",
       "      <td>0.000000</td>\n",
       "      <td>0.000000</td>\n",
       "      <td>0.000000</td>\n",
       "      <td>0.00000</td>\n",
       "      <td>0.000000</td>\n",
       "      <td>0.00000</td>\n",
       "      <td>1471.153017</td>\n",
       "      <td>92.498591</td>\n",
       "      <td>116.641363</td>\n",
       "      <td>-99.199424</td>\n",
       "      <td>0</td>\n",
       "    </tr>\n",
       "    <tr>\n",
       "      <th>1</th>\n",
       "      <td>10</td>\n",
       "      <td>54.340933</td>\n",
       "      <td>2.090488</td>\n",
       "      <td>4.285844</td>\n",
       "      <td>-346.873572</td>\n",
       "      <td>57.667929</td>\n",
       "      <td>-337.58623</td>\n",
       "      <td>73.375147</td>\n",
       "      <td>187.745233</td>\n",
       "      <td>3.529407</td>\n",
       "      <td>6.367005</td>\n",
       "      <td>-1217.339965</td>\n",
       "      <td>76.233066</td>\n",
       "      <td>-1202.548632</td>\n",
       "      <td>106.33097</td>\n",
       "      <td>1363.057395</td>\n",
       "      <td>201.50224</td>\n",
       "      <td>1558.680496</td>\n",
       "      <td>501.458099</td>\n",
       "      <td>633.989718</td>\n",
       "      <td>-301.990233</td>\n",
       "      <td>0</td>\n",
       "    </tr>\n",
       "  </tbody>\n",
       "</table>\n",
       "</div>"
      ],
      "text/plain": [
       "   frameId  area_block  dist_block  dist_to_qb_block  x_force_block  \\\n",
       "0        1   79.224000    2.165379          4.273408       0.000000   \n",
       "1       10   54.340933    2.090488          4.285844    -346.873572   \n",
       "\n",
       "   y_force_block  norm_weighted_x_block  norm_weighted_y_block   area_rush  \\\n",
       "0       0.000000                0.00000               0.000000  217.635233   \n",
       "1      57.667929             -337.58623              73.375147  187.745233   \n",
       "\n",
       "   dist_rush  dist_to_qb_rush  x_force_rush  y_force_rush  \\\n",
       "0   3.941905         7.215590      0.000000      0.000000   \n",
       "1   3.529407         6.367005  -1217.339965     76.233066   \n",
       "\n",
       "   norm_weighted_x_rush  norm_weighted_y_rush  net_x_force_bottom  \\\n",
       "0              0.000000               0.00000            0.000000   \n",
       "1          -1202.548632             106.33097         1363.057395   \n",
       "\n",
       "   net_y_force_bottom  net_x_force_middle  net_y_force_middle  \\\n",
       "0             0.00000         1471.153017           92.498591   \n",
       "1           201.50224         1558.680496          501.458099   \n",
       "\n",
       "   net_x_force_top  net_y_force_top  bad_thing  \n",
       "0       116.641363       -99.199424          0  \n",
       "1       633.989718      -301.990233          0  "
      ]
     },
     "execution_count": 119,
     "metadata": {},
     "output_type": "execute_result"
    }
   ],
   "source": [
    "week1_7train.head(2)"
   ]
  },
  {
   "cell_type": "code",
   "execution_count": 180,
   "id": "a6f00253",
   "metadata": {},
   "outputs": [],
   "source": [
    "df=pd.read_csv(\"/Users/joonghochoi/Desktop/features_all_weeks.csv\")\n",
    "df=df.drop(columns=['Unnamed: 0','playId','gameId','hit','hurry','sack'])\n",
    "week1=df[df.week==1]\n",
    "week2=df[df.week==2]\n",
    "week3=df[df.week==3]\n",
    "week4=df[df.week==4]\n",
    "week5=df[df.week==5]\n",
    "week6=df[df.week==6]\n",
    "week7=df[df.week==7]\n",
    "week1_7train=pd.concat([week1,week2,week3,week4,week5,week6,week7],axis=0)\n",
    "week1_7train=week1_7train.drop('week',axis=1)\n",
    "week8test=df[df.week==8]\n",
    "week8test=week8test.drop('week',axis=1)"
   ]
  },
  {
   "cell_type": "code",
   "execution_count": 181,
   "id": "d9687123",
   "metadata": {},
   "outputs": [],
   "source": [
    "#for model trained on multiple weeks \n",
    "def run_xgboost_and_calculate_auc2(df,\n",
    "                                  target='target',\n",
    "                                  drop='variable_to_find_and_exclude',\n",
    "                                  w=1,\n",
    "                                  plot_variables=False,\n",
    "                                  plot_ROC_PR=False,\n",
    "                                  plot_confusion=False,\n",
    "                                  learning_rate=0.05,\n",
    "                                  max_depth=10,\n",
    "                                  esr=10,\n",
    "                                  CV=True,\n",
    "                                  title='',\n",
    "                                  plot_all=False,\n",
    "                                  ensembler=False,\n",
    "                                  test_size=.2\n",
    "                                 ):\n",
    "    '''\n",
    "    Generic function to run xgboost to test the added changes and plot roc, learning and others and save the model.\n",
    "    '''\n",
    "    # features\n",
    "    #X = week1_6train.drop(target, axis=1)\n",
    "    X = week1_7train.drop(target, axis=1)\n",
    "    X = pd.get_dummies(X)\n",
    "    \n",
    "    # targets\n",
    "    #Y = week1_6train[target]\n",
    "    Y = week1_7train[target]\n",
    "    \n",
    "    X_train=X\n",
    "    Y_train=Y\n",
    "    \n",
    "#     X_test=week7_8test[week7_8test.columns[~week7_8test.columns.isin(['bad_thing'])]]\n",
    "#     Y_test=week7_8test[week7_8test.columns[week7_8test.columns.isin(['bad_thing'])]]\n",
    "    X_test=week8test[week8test.columns[~week8test.columns.isin(['bad_thing'])]]\n",
    "    Y_test=week8test[week8test.columns[week8test.columns.isin(['bad_thing'])]]\n",
    "\n",
    "    \n",
    "\n",
    "    print(f'variables: {len(list(X))}, rows:{len(X)}, flags:{sum(list(df[target]))}')\n",
    "    \n",
    "        \n",
    "    clf = xgb.XGBClassifier(max_depth=5, n_estimators=30,objective='binary:logistic')\n",
    "\n",
    "    \n",
    "\n",
    "    if plot_all:\n",
    "        plot_learning=True\n",
    "        plot_variables=True\n",
    "        plot_ROC_PR=True\n",
    "        plot_confusion=True\n",
    "        plot_graph_tree=True\n",
    "        \n",
    "#     if CV:\n",
    "#         X = pd.concat([X_train,X_test])\n",
    "#         y = pd.concat([Y_train,Y_test])\n",
    "#         xgb_param = clf.get_xgb_params()\n",
    "#         xgtrain = xgb.DMatrix(X.values, y.values)\n",
    "#         cvresult = xgb.cv(xgb_param,\n",
    "#                           xgtrain,\n",
    "#                           num_boost_round=clf.get_params()['n_estimators'],\n",
    "#                           nfold=5,\n",
    "#                           metrics='auc',\n",
    "#                           early_stopping_rounds=esr)\n",
    "#         print(cvresult.tail(1))\n",
    "#         clf.set_params(n_estimators=cvresult.shape[0])\n",
    "    eval_set = [(X_train, Y_train), (X_test, Y_test)]\n",
    "    clf.fit(X_train,\n",
    "            Y_train,\n",
    "            early_stopping_rounds=25,\n",
    "            eval_metric=['auc','error','logloss'],\n",
    "            eval_set=eval_set,\n",
    "            verbose=False)\n",
    "    print(\"it works until prediction\")\n",
    "    Y_pred = clf.predict_proba(X_test)\n",
    "    y_true = np.array(Y_test)\n",
    "    y_scores = Y_pred[:, 1]\n",
    "\n",
    "    fpr, tpr, _ = roc_curve(Y_test, y_scores)\n",
    "    roc_auc = auc(fpr, tpr)\n",
    "    average_precision = average_precision_score(Y_test, y_scores)\n",
    "    precision, recall, _ = precision_recall_curve(Y_test, y_scores)\n",
    "    \n",
    "    if plot_ROC_PR:\n",
    "        plot_roc(fpr, tpr, roc_auc)\n",
    "        plot_pr(recall,precision,average_precision)\n",
    "    else:\n",
    "        print('Area under ROC: %0.6f' % roc_auc)\n",
    "\n",
    "    print(\"plotting variables of importance\")\n",
    "    if plot_variables:\n",
    "#         booster = clf.get_booster()\n",
    "\n",
    "#         # Get the importance dictionary (by gain) from the booster\n",
    "#         importance = booster.get_score(importance_type=\"gain\")\n",
    "#         #importance = clf.get_score(importance_type=\"gain\")\n",
    "\n",
    "#         # make your changes\n",
    "#         for key in importance.keys():\n",
    "#             importance[key] = round(importance[key],2)\n",
    "\n",
    "#         # provide the importance dictionary to the plotting function\n",
    "#         ax = plot_importance(importance, max_num_features=3, importance_type='gain', show_values=True)\n",
    "        \n",
    "        xgb.plot_importance(clf,max_num_features=20,importance_type='gain',xlabel='gain')\n",
    "    \n",
    "    print('\\n', classification_report(y_true, y_scores.round()))\n",
    "        \n",
    "    if ensembler:\n",
    "        return clf,X_train,Y_test,Y_pred, y_scores\n",
    "\n",
    "    print('-------------END EXECUTION-------------')"
   ]
  },
  {
   "cell_type": "code",
   "execution_count": 182,
   "id": "0d796c3b",
   "metadata": {},
   "outputs": [
    {
     "name": "stdout",
     "output_type": "stream",
     "text": [
      "variables: 26, rows:242418, flags:16106\n"
     ]
    },
    {
     "name": "stderr",
     "output_type": "stream",
     "text": [
      "/usr/local/lib/python3.9/site-packages/xgboost/sklearn.py:1146: UserWarning: The use of label encoder in XGBClassifier is deprecated and will be removed in a future release. To remove this warning, do the following: 1) Pass option use_label_encoder=False when constructing XGBClassifier object; and 2) Encode your labels (y) as integers starting with 0, i.e. 0, 1, 2, ..., [num_class - 1].\n",
      "  warnings.warn(label_encoder_deprecation_msg, UserWarning)\n",
      "/usr/local/lib/python3.9/site-packages/sklearn/utils/validation.py:63: DataConversionWarning: A column-vector y was passed when a 1d array was expected. Please change the shape of y to (n_samples, ), for example using ravel().\n",
      "  return f(*args, **kwargs)\n",
      "No handles with labels found to put in legend.\n"
     ]
    },
    {
     "name": "stdout",
     "output_type": "stream",
     "text": [
      "it works until prediction\n"
     ]
    },
    {
     "data": {
      "image/png": "[encoded data removed]",
      "text/plain": [
       "<Figure size 432x288 with 1 Axes>"
      ]
     },
     "metadata": {
      "needs_background": "light"
     },
     "output_type": "display_data"
    },
    {
     "data": {
      "image/png": "[encoded data removed]",
      "text/plain": [
       "<Figure size 432x288 with 1 Axes>"
      ]
     },
     "metadata": {
      "needs_background": "light"
     },
     "output_type": "display_data"
    },
    {
     "name": "stdout",
     "output_type": "stream",
     "text": [
      "plotting variables of importance\n",
      "\n",
      "               precision    recall  f1-score   support\n",
      "\n",
      "           0       0.62      0.90      0.74     17681\n",
      "           1       0.73      0.33      0.45     14430\n",
      "\n",
      "    accuracy                           0.64     32111\n",
      "   macro avg       0.68      0.62      0.60     32111\n",
      "weighted avg       0.67      0.64      0.61     32111\n",
      "\n"
     ]
    },
    {
     "data": {
      "image/png": "[encoded data removed]",
      "text/plain": [
       "<Figure size 432x288 with 1 Axes>"
      ]
     },
     "metadata": {
      "needs_background": "light"
     },
     "output_type": "display_data"
    }
   ],
   "source": [
    "model,X_train,Y_test, Y_pred,y_scores = run_xgboost_and_calculate_auc2(new_df1,target='bad_thing',plot_all=True,ensembler=True)\n",
    "\n"
   ]
  },
  {
   "cell_type": "code",
   "execution_count": null,
   "id": "6cd2fe27",
   "metadata": {},
   "outputs": [],
   "source": []
  },
  {
   "cell_type": "code",
   "execution_count": null,
   "id": "055a12cc",
   "metadata": {},
   "outputs": [],
   "source": [
    "df=pd.read_csv(\"/Users/joonghochoi/Desktop/features_all_weeks.csv\")\n",
    "df=df.drop(columns=['Unnamed: 0','playId','gameId','hit','hurry','sack'])\n",
    "week1=df[df.week==1]\n",
    "week2=df[df.week==2]\n",
    "week3=df[df.week==3]\n",
    "week4=df[df.week==4]\n",
    "week5=df[df.week==5]\n",
    "week6=df[df.week==6]\n",
    "week7=df[df.week==7]\n",
    "week1_7train=pd.concat([week1,week2,week3,week4,week5,week6,week7],axis=0)\n",
    "week1_7train=week1_7train.drop('week',axis=1)\n",
    "week8test=df[df.week==8]\n",
    "week8test=week8test.drop('week',axis=1)"
   ]
  },
  {
   "cell_type": "code",
   "execution_count": 158,
   "id": "f3f8aef5",
   "metadata": {},
   "outputs": [
    {
     "data": {
      "text/html": [
       "<div>\n",
       "<style scoped>\n",
       "    .dataframe tbody tr th:only-of-type {\n",
       "        vertical-align: middle;\n",
       "    }\n",
       "\n",
       "    .dataframe tbody tr th {\n",
       "        vertical-align: top;\n",
       "    }\n",
       "\n",
       "    .dataframe thead th {\n",
       "        text-align: right;\n",
       "    }\n",
       "</style>\n",
       "<table border=\"1\" class=\"dataframe\">\n",
       "  <thead>\n",
       "    <tr style=\"text-align: right;\">\n",
       "      <th></th>\n",
       "      <th>frameId</th>\n",
       "      <th>area_block</th>\n",
       "      <th>dist_block</th>\n",
       "      <th>dist_to_qb_block</th>\n",
       "      <th>x_force_block</th>\n",
       "      <th>y_force_block</th>\n",
       "      <th>norm_weighted_x_block</th>\n",
       "      <th>norm_weighted_y_block</th>\n",
       "      <th>area_rush</th>\n",
       "      <th>dist_rush</th>\n",
       "      <th>dist_to_qb_rush</th>\n",
       "      <th>x_force_rush</th>\n",
       "      <th>y_force_rush</th>\n",
       "      <th>norm_weighted_x_rush</th>\n",
       "      <th>norm_weighted_y_rush</th>\n",
       "      <th>X</th>\n",
       "      <th>net_x_force_bottom</th>\n",
       "      <th>net_y_force_bottom</th>\n",
       "      <th>net_x_force_middle</th>\n",
       "      <th>net_y_force_middle</th>\n",
       "      <th>net_x_force_top</th>\n",
       "      <th>net_y_force_top</th>\n",
       "      <th>net_x_force</th>\n",
       "      <th>net_y_force</th>\n",
       "      <th>norm_weighted_x_net</th>\n",
       "      <th>norm_weighted_y_net</th>\n",
       "      <th>bad_thing</th>\n",
       "      <th>week</th>\n",
       "    </tr>\n",
       "  </thead>\n",
       "  <tbody>\n",
       "    <tr>\n",
       "      <th>0</th>\n",
       "      <td>1</td>\n",
       "      <td>157.176</td>\n",
       "      <td>2.165379</td>\n",
       "      <td>4.273408</td>\n",
       "      <td>-231.113667</td>\n",
       "      <td>-9.797639</td>\n",
       "      <td>-219.375143</td>\n",
       "      <td>-20.861996</td>\n",
       "      <td>413.6981</td>\n",
       "      <td>3.941905</td>\n",
       "      <td>7.21559</td>\n",
       "      <td>-144.075348</td>\n",
       "      <td>18.563036</td>\n",
       "      <td>-166.601464</td>\n",
       "      <td>9.691131</td>\n",
       "      <td>13115</td>\n",
       "      <td>-116.641354</td>\n",
       "      <td>99.199434</td>\n",
       "      <td>-1471.153023</td>\n",
       "      <td>-92.498522</td>\n",
       "      <td>0.0</td>\n",
       "      <td>0.0</td>\n",
       "      <td>-1587.794376</td>\n",
       "      <td>6.700912</td>\n",
       "      <td>-385.976607</td>\n",
       "      <td>-11.170865</td>\n",
       "      <td>0</td>\n",
       "      <td>1</td>\n",
       "    </tr>\n",
       "  </tbody>\n",
       "</table>\n",
       "</div>"
      ],
      "text/plain": [
       "   frameId  area_block  dist_block  dist_to_qb_block  x_force_block  \\\n",
       "0        1     157.176    2.165379          4.273408    -231.113667   \n",
       "\n",
       "   y_force_block  norm_weighted_x_block  norm_weighted_y_block  area_rush  \\\n",
       "0      -9.797639            -219.375143             -20.861996   413.6981   \n",
       "\n",
       "   dist_rush  dist_to_qb_rush  x_force_rush  y_force_rush  \\\n",
       "0   3.941905          7.21559   -144.075348     18.563036   \n",
       "\n",
       "   norm_weighted_x_rush  norm_weighted_y_rush      X  net_x_force_bottom  \\\n",
       "0           -166.601464              9.691131  13115         -116.641354   \n",
       "\n",
       "   net_y_force_bottom  net_x_force_middle  net_y_force_middle  \\\n",
       "0           99.199434        -1471.153023          -92.498522   \n",
       "\n",
       "   net_x_force_top  net_y_force_top  net_x_force  net_y_force  \\\n",
       "0              0.0              0.0 -1587.794376     6.700912   \n",
       "\n",
       "   norm_weighted_x_net  norm_weighted_y_net  bad_thing  week  \n",
       "0          -385.976607           -11.170865          0     1  "
      ]
     },
     "execution_count": 158,
     "metadata": {},
     "output_type": "execute_result"
    }
   ],
   "source": [
    "df=pd.read_csv(\"/Users/joonghochoi/Desktop/features_all_weeks.csv\")\n",
    "df=df.drop(columns=['Unnamed: 0','playId','gameId','hit','hurry','sack'])\n",
    "df.head(1)"
   ]
  },
  {
   "cell_type": "code",
   "execution_count": 164,
   "id": "d18188da",
   "metadata": {},
   "outputs": [
    {
     "data": {
      "text/html": [
       "<div>\n",
       "<style scoped>\n",
       "    .dataframe tbody tr th:only-of-type {\n",
       "        vertical-align: middle;\n",
       "    }\n",
       "\n",
       "    .dataframe tbody tr th {\n",
       "        vertical-align: top;\n",
       "    }\n",
       "\n",
       "    .dataframe thead th {\n",
       "        text-align: right;\n",
       "    }\n",
       "</style>\n",
       "<table border=\"1\" class=\"dataframe\">\n",
       "  <thead>\n",
       "    <tr style=\"text-align: right;\">\n",
       "      <th></th>\n",
       "      <th>frameId</th>\n",
       "      <th>area_block</th>\n",
       "      <th>dist_block</th>\n",
       "      <th>dist_to_qb_block</th>\n",
       "      <th>x_force_block</th>\n",
       "      <th>y_force_block</th>\n",
       "      <th>norm_weighted_x_block</th>\n",
       "      <th>norm_weighted_y_block</th>\n",
       "      <th>area_rush</th>\n",
       "      <th>dist_rush</th>\n",
       "      <th>dist_to_qb_rush</th>\n",
       "      <th>x_force_rush</th>\n",
       "      <th>y_force_rush</th>\n",
       "      <th>norm_weighted_x_rush</th>\n",
       "      <th>norm_weighted_y_rush</th>\n",
       "      <th>X</th>\n",
       "      <th>net_x_force_bottom</th>\n",
       "      <th>net_y_force_bottom</th>\n",
       "      <th>net_x_force_middle</th>\n",
       "      <th>net_y_force_middle</th>\n",
       "      <th>net_x_force_top</th>\n",
       "      <th>net_y_force_top</th>\n",
       "      <th>net_x_force</th>\n",
       "      <th>net_y_force</th>\n",
       "      <th>norm_weighted_x_net</th>\n",
       "      <th>norm_weighted_y_net</th>\n",
       "      <th>bad_thing</th>\n",
       "    </tr>\n",
       "  </thead>\n",
       "  <tbody>\n",
       "    <tr>\n",
       "      <th>0</th>\n",
       "      <td>1</td>\n",
       "      <td>157.1760</td>\n",
       "      <td>2.165379</td>\n",
       "      <td>4.273408</td>\n",
       "      <td>-231.113667</td>\n",
       "      <td>-9.797639</td>\n",
       "      <td>-219.375143</td>\n",
       "      <td>-20.861996</td>\n",
       "      <td>413.6981</td>\n",
       "      <td>3.941905</td>\n",
       "      <td>7.215590</td>\n",
       "      <td>-144.075348</td>\n",
       "      <td>18.563036</td>\n",
       "      <td>-166.601464</td>\n",
       "      <td>9.691131</td>\n",
       "      <td>13115</td>\n",
       "      <td>-116.641354</td>\n",
       "      <td>99.199434</td>\n",
       "      <td>-1471.153023</td>\n",
       "      <td>-92.498522</td>\n",
       "      <td>0.000000</td>\n",
       "      <td>0.000000</td>\n",
       "      <td>-1587.794376</td>\n",
       "      <td>6.700912</td>\n",
       "      <td>-385.976607</td>\n",
       "      <td>-11.170865</td>\n",
       "      <td>0</td>\n",
       "    </tr>\n",
       "    <tr>\n",
       "      <th>1</th>\n",
       "      <td>10</td>\n",
       "      <td>106.9924</td>\n",
       "      <td>2.090488</td>\n",
       "      <td>4.285844</td>\n",
       "      <td>-252.178533</td>\n",
       "      <td>-55.454598</td>\n",
       "      <td>-248.210286</td>\n",
       "      <td>-61.295333</td>\n",
       "      <td>376.3881</td>\n",
       "      <td>3.529407</td>\n",
       "      <td>6.367005</td>\n",
       "      <td>-764.944997</td>\n",
       "      <td>-41.232330</td>\n",
       "      <td>-730.694710</td>\n",
       "      <td>-62.674274</td>\n",
       "      <td>13124</td>\n",
       "      <td>-633.989718</td>\n",
       "      <td>301.990191</td>\n",
       "      <td>-1558.680541</td>\n",
       "      <td>-501.457938</td>\n",
       "      <td>-1363.057395</td>\n",
       "      <td>-201.502232</td>\n",
       "      <td>-3555.727654</td>\n",
       "      <td>-400.969978</td>\n",
       "      <td>-978.904996</td>\n",
       "      <td>-123.969607</td>\n",
       "      <td>0</td>\n",
       "    </tr>\n",
       "  </tbody>\n",
       "</table>\n",
       "</div>"
      ],
      "text/plain": [
       "   frameId  area_block  dist_block  dist_to_qb_block  x_force_block  \\\n",
       "0        1    157.1760    2.165379          4.273408    -231.113667   \n",
       "1       10    106.9924    2.090488          4.285844    -252.178533   \n",
       "\n",
       "   y_force_block  norm_weighted_x_block  norm_weighted_y_block  area_rush  \\\n",
       "0      -9.797639            -219.375143             -20.861996   413.6981   \n",
       "1     -55.454598            -248.210286             -61.295333   376.3881   \n",
       "\n",
       "   dist_rush  dist_to_qb_rush  x_force_rush  y_force_rush  \\\n",
       "0   3.941905         7.215590   -144.075348     18.563036   \n",
       "1   3.529407         6.367005   -764.944997    -41.232330   \n",
       "\n",
       "   norm_weighted_x_rush  norm_weighted_y_rush      X  net_x_force_bottom  \\\n",
       "0           -166.601464              9.691131  13115         -116.641354   \n",
       "1           -730.694710            -62.674274  13124         -633.989718   \n",
       "\n",
       "   net_y_force_bottom  net_x_force_middle  net_y_force_middle  \\\n",
       "0           99.199434        -1471.153023          -92.498522   \n",
       "1          301.990191        -1558.680541         -501.457938   \n",
       "\n",
       "   net_x_force_top  net_y_force_top  net_x_force  net_y_force  \\\n",
       "0         0.000000         0.000000 -1587.794376     6.700912   \n",
       "1     -1363.057395      -201.502232 -3555.727654  -400.969978   \n",
       "\n",
       "   norm_weighted_x_net  norm_weighted_y_net  bad_thing  \n",
       "0          -385.976607           -11.170865          0  \n",
       "1          -978.904996          -123.969607          0  "
      ]
     },
     "execution_count": 164,
     "metadata": {},
     "output_type": "execute_result"
    }
   ],
   "source": [
    "week1=df[df.week==1]\n",
    "week2=df[df.week==2]\n",
    "week3=df[df.week==3]\n",
    "week4=df[df.week==4]\n",
    "week5=df[df.week==5]\n",
    "week6=df[df.week==6]\n",
    "week7=df[df.week==7]\n",
    "week1_7train=pd.concat([week1,week2,week3,week4,week5,week6,week7],axis=0)\n",
    "week1_7train=week1_7train.drop('week',axis=1)\n",
    "week1_7train.head(2)"
   ]
  },
  {
   "cell_type": "code",
   "execution_count": 169,
   "id": "417af1e2",
   "metadata": {},
   "outputs": [
    {
     "data": {
      "text/html": [
       "<div>\n",
       "<style scoped>\n",
       "    .dataframe tbody tr th:only-of-type {\n",
       "        vertical-align: middle;\n",
       "    }\n",
       "\n",
       "    .dataframe tbody tr th {\n",
       "        vertical-align: top;\n",
       "    }\n",
       "\n",
       "    .dataframe thead th {\n",
       "        text-align: right;\n",
       "    }\n",
       "</style>\n",
       "<table border=\"1\" class=\"dataframe\">\n",
       "  <thead>\n",
       "    <tr style=\"text-align: right;\">\n",
       "      <th></th>\n",
       "      <th>frameId</th>\n",
       "      <th>area_block</th>\n",
       "      <th>dist_block</th>\n",
       "      <th>dist_to_qb_block</th>\n",
       "      <th>x_force_block</th>\n",
       "      <th>y_force_block</th>\n",
       "      <th>norm_weighted_x_block</th>\n",
       "      <th>norm_weighted_y_block</th>\n",
       "      <th>area_rush</th>\n",
       "      <th>dist_rush</th>\n",
       "      <th>dist_to_qb_rush</th>\n",
       "      <th>x_force_rush</th>\n",
       "      <th>y_force_rush</th>\n",
       "      <th>norm_weighted_x_rush</th>\n",
       "      <th>norm_weighted_y_rush</th>\n",
       "      <th>X</th>\n",
       "      <th>net_x_force_bottom</th>\n",
       "      <th>net_y_force_bottom</th>\n",
       "      <th>net_x_force_middle</th>\n",
       "      <th>net_y_force_middle</th>\n",
       "      <th>net_x_force_top</th>\n",
       "      <th>net_y_force_top</th>\n",
       "      <th>net_x_force</th>\n",
       "      <th>net_y_force</th>\n",
       "      <th>norm_weighted_x_net</th>\n",
       "      <th>norm_weighted_y_net</th>\n",
       "      <th>bad_thing</th>\n",
       "    </tr>\n",
       "  </thead>\n",
       "  <tbody>\n",
       "    <tr>\n",
       "      <th>242418</th>\n",
       "      <td>1</td>\n",
       "      <td>60.7892</td>\n",
       "      <td>1.855897</td>\n",
       "      <td>4.506846</td>\n",
       "      <td>-191.1274</td>\n",
       "      <td>-31.35626</td>\n",
       "      <td>-191.3023</td>\n",
       "      <td>-39.55285</td>\n",
       "      <td>81.1868</td>\n",
       "      <td>3.507132</td>\n",
       "      <td>7.022569</td>\n",
       "      <td>-97.78623</td>\n",
       "      <td>26.77534</td>\n",
       "      <td>-108.7950</td>\n",
       "      <td>32.06720</td>\n",
       "      <td>6598</td>\n",
       "      <td>-48.63153</td>\n",
       "      <td>-15.36145</td>\n",
       "      <td>-1345.393</td>\n",
       "      <td>-1.103696</td>\n",
       "      <td>47.24235</td>\n",
       "      <td>-33.2148</td>\n",
       "      <td>-1346.782</td>\n",
       "      <td>-49.67995</td>\n",
       "      <td>-300.0973</td>\n",
       "      <td>-7.485645</td>\n",
       "      <td>0</td>\n",
       "    </tr>\n",
       "    <tr>\n",
       "      <th>242419</th>\n",
       "      <td>10</td>\n",
       "      <td>122.0435</td>\n",
       "      <td>2.126135</td>\n",
       "      <td>4.444148</td>\n",
       "      <td>-225.0156</td>\n",
       "      <td>66.52370</td>\n",
       "      <td>-225.1450</td>\n",
       "      <td>65.69522</td>\n",
       "      <td>286.7120</td>\n",
       "      <td>3.334334</td>\n",
       "      <td>6.188041</td>\n",
       "      <td>-318.45240</td>\n",
       "      <td>77.42626</td>\n",
       "      <td>-305.8638</td>\n",
       "      <td>78.23419</td>\n",
       "      <td>6607</td>\n",
       "      <td>-621.57670</td>\n",
       "      <td>118.07070</td>\n",
       "      <td>-1107.130</td>\n",
       "      <td>411.795300</td>\n",
       "      <td>-670.18080</td>\n",
       "      <td>112.4575</td>\n",
       "      <td>-2398.887</td>\n",
       "      <td>642.32350</td>\n",
       "      <td>-531.0088</td>\n",
       "      <td>143.929400</td>\n",
       "      <td>0</td>\n",
       "    </tr>\n",
       "  </tbody>\n",
       "</table>\n",
       "</div>"
      ],
      "text/plain": [
       "        frameId  area_block  dist_block  dist_to_qb_block  x_force_block  \\\n",
       "242418        1     60.7892    1.855897          4.506846      -191.1274   \n",
       "242419       10    122.0435    2.126135          4.444148      -225.0156   \n",
       "\n",
       "        y_force_block  norm_weighted_x_block  norm_weighted_y_block  \\\n",
       "242418      -31.35626              -191.3023              -39.55285   \n",
       "242419       66.52370              -225.1450               65.69522   \n",
       "\n",
       "        area_rush  dist_rush  dist_to_qb_rush  x_force_rush  y_force_rush  \\\n",
       "242418    81.1868   3.507132         7.022569     -97.78623      26.77534   \n",
       "242419   286.7120   3.334334         6.188041    -318.45240      77.42626   \n",
       "\n",
       "        norm_weighted_x_rush  norm_weighted_y_rush     X  net_x_force_bottom  \\\n",
       "242418             -108.7950              32.06720  6598           -48.63153   \n",
       "242419             -305.8638              78.23419  6607          -621.57670   \n",
       "\n",
       "        net_y_force_bottom  net_x_force_middle  net_y_force_middle  \\\n",
       "242418           -15.36145           -1345.393           -1.103696   \n",
       "242419           118.07070           -1107.130          411.795300   \n",
       "\n",
       "        net_x_force_top  net_y_force_top  net_x_force  net_y_force  \\\n",
       "242418         47.24235         -33.2148    -1346.782    -49.67995   \n",
       "242419       -670.18080         112.4575    -2398.887    642.32350   \n",
       "\n",
       "        norm_weighted_x_net  norm_weighted_y_net  bad_thing  \n",
       "242418            -300.0973            -7.485645          0  \n",
       "242419            -531.0088           143.929400          0  "
      ]
     },
     "execution_count": 169,
     "metadata": {},
     "output_type": "execute_result"
    }
   ],
   "source": [
    "week8test=df[df.week==8]\n",
    "week8test=week8test.drop('week',axis=1)\n",
    "week8test.head(2)"
   ]
  },
  {
   "cell_type": "code",
   "execution_count": 170,
   "id": "e8dc6764",
   "metadata": {},
   "outputs": [
    {
     "name": "stderr",
     "output_type": "stream",
     "text": [
      "/usr/local/lib/python3.9/site-packages/xgboost/sklearn.py:1146: UserWarning: The use of label encoder in XGBClassifier is deprecated and will be removed in a future release. To remove this warning, do the following: 1) Pass option use_label_encoder=False when constructing XGBClassifier object; and 2) Encode your labels (y) as integers starting with 0, i.e. 0, 1, 2, ..., [num_class - 1].\n",
      "  warnings.warn(label_encoder_deprecation_msg, UserWarning)\n",
      "/usr/local/lib/python3.9/site-packages/sklearn/utils/validation.py:63: DataConversionWarning: A column-vector y was passed when a 1d array was expected. Please change the shape of y to (n_samples, ), for example using ravel().\n",
      "  return f(*args, **kwargs)\n"
     ]
    }
   ],
   "source": [
    "target='bad_thing'\n",
    "X = week1_7train.drop(target, axis=1)\n",
    "X = pd.get_dummies(X)\n",
    "    \n",
    "    # targets\n",
    "    #Y = week1_6train[target]\n",
    "Y = week1_7train[target]\n",
    "    \n",
    "X_train=X\n",
    "Y_train=Y\n",
    "    \n",
    "X_test=week8test[week8test.columns[~week8test.columns.isin(['bad_thing'])]]\n",
    "Y_test1=week8test[week8test.columns[week8test.columns.isin(['bad_thing','frameId'])]]\n",
    "Y_test=week8test[week8test.columns[week8test.columns.isin(['bad_thing'])]]\n",
    "\n",
    "\n",
    "    \n",
    "clf = xgb.XGBClassifier(max_depth=5, n_estimators=30,objective='binary:logistic')\n",
    "\n",
    "eval_set = [(X_train, Y_train), (X_test, Y_test)]\n",
    "clf.fit(X_train,\n",
    "            Y_train,\n",
    "            early_stopping_rounds=25,\n",
    "            eval_metric=['auc','error','logloss'],\n",
    "            eval_set=eval_set,\n",
    "            verbose=False)\n",
    "Y_pred = clf.predict_proba(X_test)\n",
    "y_true = np.array(Y_test)\n",
    "y_scores = Y_pred[:, 1]"
   ]
  },
  {
   "cell_type": "code",
   "execution_count": 171,
   "id": "81920691",
   "metadata": {},
   "outputs": [
    {
     "data": {
      "text/plain": [
       "numpy.ndarray"
      ]
     },
     "execution_count": 171,
     "metadata": {},
     "output_type": "execute_result"
    }
   ],
   "source": [
    "type(Y_pred)"
   ]
  },
  {
   "cell_type": "code",
   "execution_count": 137,
   "id": "bfbda202",
   "metadata": {},
   "outputs": [],
   "source": [
    "pd.DataFrame(Y_pred).to_csv(\"/Users/joonghochoi/Desktop/NFLBigDataBowl/xgboost_pred.csv\")"
   ]
  },
  {
   "cell_type": "code",
   "execution_count": 172,
   "id": "d5dcd1d6",
   "metadata": {},
   "outputs": [
    {
     "name": "stdout",
     "output_type": "stream",
     "text": [
      "32111\n",
      "32111\n",
      "<class 'numpy.ndarray'>\n",
      "<class 'pandas.core.frame.DataFrame'>\n",
      "<class 'pandas.core.frame.DataFrame'>\n"
     ]
    }
   ],
   "source": [
    "print(len(Y_pred))\n",
    "print(len(Y_test1))\n",
    "print(type(Y_pred))\n",
    "meow=pd.DataFrame(Y_pred)\n",
    "print(type(Y_test1))\n",
    "print(type(meow))"
   ]
  },
  {
   "cell_type": "code",
   "execution_count": 143,
   "id": "c929e49e",
   "metadata": {},
   "outputs": [
    {
     "data": {
      "text/html": [
       "<div>\n",
       "<style scoped>\n",
       "    .dataframe tbody tr th:only-of-type {\n",
       "        vertical-align: middle;\n",
       "    }\n",
       "\n",
       "    .dataframe tbody tr th {\n",
       "        vertical-align: top;\n",
       "    }\n",
       "\n",
       "    .dataframe thead th {\n",
       "        text-align: right;\n",
       "    }\n",
       "</style>\n",
       "<table border=\"1\" class=\"dataframe\">\n",
       "  <thead>\n",
       "    <tr style=\"text-align: right;\">\n",
       "      <th></th>\n",
       "      <th>0</th>\n",
       "      <th>1</th>\n",
       "    </tr>\n",
       "  </thead>\n",
       "  <tbody>\n",
       "    <tr>\n",
       "      <th>0</th>\n",
       "      <td>0.658448</td>\n",
       "      <td>0.341552</td>\n",
       "    </tr>\n",
       "    <tr>\n",
       "      <th>1</th>\n",
       "      <td>0.611047</td>\n",
       "      <td>0.388953</td>\n",
       "    </tr>\n",
       "  </tbody>\n",
       "</table>\n",
       "</div>"
      ],
      "text/plain": [
       "          0         1\n",
       "0  0.658448  0.341552\n",
       "1  0.611047  0.388953"
      ]
     },
     "execution_count": 143,
     "metadata": {},
     "output_type": "execute_result"
    }
   ],
   "source": [
    "meow.head(2)"
   ]
  },
  {
   "cell_type": "code",
   "execution_count": 144,
   "id": "3ca40e1d",
   "metadata": {},
   "outputs": [
    {
     "data": {
      "text/html": [
       "<div>\n",
       "<style scoped>\n",
       "    .dataframe tbody tr th:only-of-type {\n",
       "        vertical-align: middle;\n",
       "    }\n",
       "\n",
       "    .dataframe tbody tr th {\n",
       "        vertical-align: top;\n",
       "    }\n",
       "\n",
       "    .dataframe thead th {\n",
       "        text-align: right;\n",
       "    }\n",
       "</style>\n",
       "<table border=\"1\" class=\"dataframe\">\n",
       "  <thead>\n",
       "    <tr style=\"text-align: right;\">\n",
       "      <th></th>\n",
       "      <th>frameId</th>\n",
       "      <th>bad_thing</th>\n",
       "    </tr>\n",
       "  </thead>\n",
       "  <tbody>\n",
       "    <tr>\n",
       "      <th>0</th>\n",
       "      <td>1</td>\n",
       "      <td>0</td>\n",
       "    </tr>\n",
       "    <tr>\n",
       "      <th>1</th>\n",
       "      <td>10</td>\n",
       "      <td>0</td>\n",
       "    </tr>\n",
       "  </tbody>\n",
       "</table>\n",
       "</div>"
      ],
      "text/plain": [
       "   frameId  bad_thing\n",
       "0        1          0\n",
       "1       10          0"
      ]
     },
     "execution_count": 144,
     "metadata": {},
     "output_type": "execute_result"
    }
   ],
   "source": [
    "Y_test1.head(2)"
   ]
  },
  {
   "cell_type": "code",
   "execution_count": 173,
   "id": "a9dfd9df",
   "metadata": {},
   "outputs": [
    {
     "data": {
      "text/html": [
       "<div>\n",
       "<style scoped>\n",
       "    .dataframe tbody tr th:only-of-type {\n",
       "        vertical-align: middle;\n",
       "    }\n",
       "\n",
       "    .dataframe tbody tr th {\n",
       "        vertical-align: top;\n",
       "    }\n",
       "\n",
       "    .dataframe thead th {\n",
       "        text-align: right;\n",
       "    }\n",
       "</style>\n",
       "<table border=\"1\" class=\"dataframe\">\n",
       "  <thead>\n",
       "    <tr style=\"text-align: right;\">\n",
       "      <th></th>\n",
       "      <th>0</th>\n",
       "      <th>1</th>\n",
       "      <th>bad_thing</th>\n",
       "      <th>frameId</th>\n",
       "    </tr>\n",
       "  </thead>\n",
       "  <tbody>\n",
       "    <tr>\n",
       "      <th>242418</th>\n",
       "      <td>NaN</td>\n",
       "      <td>NaN</td>\n",
       "      <td>0.0</td>\n",
       "      <td>1.0</td>\n",
       "    </tr>\n",
       "    <tr>\n",
       "      <th>242419</th>\n",
       "      <td>NaN</td>\n",
       "      <td>NaN</td>\n",
       "      <td>0.0</td>\n",
       "      <td>10.0</td>\n",
       "    </tr>\n",
       "  </tbody>\n",
       "</table>\n",
       "</div>"
      ],
      "text/plain": [
       "         0   1  bad_thing  frameId\n",
       "242418 NaN NaN        0.0      1.0\n",
       "242419 NaN NaN        0.0     10.0"
      ]
     },
     "execution_count": 173,
     "metadata": {},
     "output_type": "execute_result"
    }
   ],
   "source": [
    "res=pd.concat([Y_test1,meow],axis=0)\n",
    "res.head(2)\n"
   ]
  },
  {
   "cell_type": "code",
   "execution_count": 174,
   "id": "3383b50c",
   "metadata": {},
   "outputs": [
    {
     "data": {
      "text/html": [
       "<div>\n",
       "<style scoped>\n",
       "    .dataframe tbody tr th:only-of-type {\n",
       "        vertical-align: middle;\n",
       "    }\n",
       "\n",
       "    .dataframe tbody tr th {\n",
       "        vertical-align: top;\n",
       "    }\n",
       "\n",
       "    .dataframe thead th {\n",
       "        text-align: right;\n",
       "    }\n",
       "</style>\n",
       "<table border=\"1\" class=\"dataframe\">\n",
       "  <thead>\n",
       "    <tr style=\"text-align: right;\">\n",
       "      <th></th>\n",
       "      <th>0</th>\n",
       "      <th>1</th>\n",
       "      <th>bad_thing</th>\n",
       "      <th>frameId</th>\n",
       "    </tr>\n",
       "  </thead>\n",
       "  <tbody>\n",
       "    <tr>\n",
       "      <th>0</th>\n",
       "      <td>NaN</td>\n",
       "      <td>NaN</td>\n",
       "      <td>0.0</td>\n",
       "      <td>1.0</td>\n",
       "    </tr>\n",
       "    <tr>\n",
       "      <th>1</th>\n",
       "      <td>NaN</td>\n",
       "      <td>NaN</td>\n",
       "      <td>0.0</td>\n",
       "      <td>10.0</td>\n",
       "    </tr>\n",
       "  </tbody>\n",
       "</table>\n",
       "</div>"
      ],
      "text/plain": [
       "    0   1  bad_thing  frameId\n",
       "0 NaN NaN        0.0      1.0\n",
       "1 NaN NaN        0.0     10.0"
      ]
     },
     "execution_count": 174,
     "metadata": {},
     "output_type": "execute_result"
    }
   ],
   "source": [
    "res1=pd.concat([Y_test1.reset_index(drop=True), meow.reset_index(drop=True)], axis=0)\n",
    "res1.head(2)"
   ]
  },
  {
   "cell_type": "code",
   "execution_count": 175,
   "id": "095f442e",
   "metadata": {},
   "outputs": [
    {
     "name": "stdout",
     "output_type": "stream",
     "text": [
      "0    0.634890\n",
      "1    0.623689\n",
      "Name: 0, dtype: float32\n",
      "0    0.365110\n",
      "1    0.376311\n",
      "Name: 1, dtype: float32\n"
     ]
    }
   ],
   "source": [
    "print(meow[0][0:2])\n",
    "print(meow[1][0:2])"
   ]
  },
  {
   "cell_type": "code",
   "execution_count": 176,
   "id": "feead07a",
   "metadata": {},
   "outputs": [
    {
     "data": {
      "text/html": [
       "<div>\n",
       "<style scoped>\n",
       "    .dataframe tbody tr th:only-of-type {\n",
       "        vertical-align: middle;\n",
       "    }\n",
       "\n",
       "    .dataframe tbody tr th {\n",
       "        vertical-align: top;\n",
       "    }\n",
       "\n",
       "    .dataframe thead th {\n",
       "        text-align: right;\n",
       "    }\n",
       "</style>\n",
       "<table border=\"1\" class=\"dataframe\">\n",
       "  <thead>\n",
       "    <tr style=\"text-align: right;\">\n",
       "      <th></th>\n",
       "      <th>0</th>\n",
       "      <th>1</th>\n",
       "      <th>bad_thing</th>\n",
       "      <th>frameId</th>\n",
       "    </tr>\n",
       "  </thead>\n",
       "  <tbody>\n",
       "    <tr>\n",
       "      <th>0</th>\n",
       "      <td>0.634890</td>\n",
       "      <td>0.365110</td>\n",
       "      <td>0.0</td>\n",
       "      <td>1.0</td>\n",
       "    </tr>\n",
       "    <tr>\n",
       "      <th>1</th>\n",
       "      <td>0.623689</td>\n",
       "      <td>0.376311</td>\n",
       "      <td>0.0</td>\n",
       "      <td>10.0</td>\n",
       "    </tr>\n",
       "  </tbody>\n",
       "</table>\n",
       "</div>"
      ],
      "text/plain": [
       "          0         1  bad_thing  frameId\n",
       "0  0.634890  0.365110        0.0      1.0\n",
       "1  0.623689  0.376311        0.0     10.0"
      ]
     },
     "execution_count": 176,
     "metadata": {},
     "output_type": "execute_result"
    }
   ],
   "source": [
    "res1[0]=meow[0]\n",
    "res1[1]=meow[1]\n",
    "res1.head(2)"
   ]
  },
  {
   "cell_type": "code",
   "execution_count": 177,
   "id": "37addeeb",
   "metadata": {},
   "outputs": [],
   "source": [
    "res1.to_csv(\"/Users/joonghochoi/Desktop/NFLBigDataBowl/stuff_for_jingchun.csv\")"
   ]
  },
  {
   "cell_type": "code",
   "execution_count": 185,
   "id": "3bb2d1b3",
   "metadata": {},
   "outputs": [
    {
     "data": {
      "text/html": [
       "<div>\n",
       "<style scoped>\n",
       "    .dataframe tbody tr th:only-of-type {\n",
       "        vertical-align: middle;\n",
       "    }\n",
       "\n",
       "    .dataframe tbody tr th {\n",
       "        vertical-align: top;\n",
       "    }\n",
       "\n",
       "    .dataframe thead th {\n",
       "        text-align: right;\n",
       "    }\n",
       "</style>\n",
       "<table border=\"1\" class=\"dataframe\">\n",
       "  <thead>\n",
       "    <tr style=\"text-align: right;\">\n",
       "      <th></th>\n",
       "      <th>frameId</th>\n",
       "      <th>area_block</th>\n",
       "      <th>dist_block</th>\n",
       "      <th>dist_to_qb_block</th>\n",
       "      <th>x_force_block</th>\n",
       "      <th>y_force_block</th>\n",
       "      <th>norm_weighted_x_block</th>\n",
       "      <th>norm_weighted_y_block</th>\n",
       "      <th>area_rush</th>\n",
       "      <th>dist_rush</th>\n",
       "      <th>dist_to_qb_rush</th>\n",
       "      <th>x_force_rush</th>\n",
       "      <th>y_force_rush</th>\n",
       "      <th>norm_weighted_x_rush</th>\n",
       "      <th>norm_weighted_y_rush</th>\n",
       "      <th>X</th>\n",
       "      <th>net_x_force_bottom</th>\n",
       "      <th>net_y_force_bottom</th>\n",
       "      <th>net_x_force_middle</th>\n",
       "      <th>net_y_force_middle</th>\n",
       "      <th>net_x_force_top</th>\n",
       "      <th>net_y_force_top</th>\n",
       "      <th>net_x_force</th>\n",
       "      <th>net_y_force</th>\n",
       "      <th>norm_weighted_x_net</th>\n",
       "      <th>norm_weighted_y_net</th>\n",
       "    </tr>\n",
       "  </thead>\n",
       "  <tbody>\n",
       "    <tr>\n",
       "      <th>0</th>\n",
       "      <td>1</td>\n",
       "      <td>157.1760</td>\n",
       "      <td>2.165379</td>\n",
       "      <td>4.273408</td>\n",
       "      <td>-231.113667</td>\n",
       "      <td>-9.797639</td>\n",
       "      <td>-219.375143</td>\n",
       "      <td>-20.861996</td>\n",
       "      <td>413.6981</td>\n",
       "      <td>3.941905</td>\n",
       "      <td>7.215590</td>\n",
       "      <td>-144.075348</td>\n",
       "      <td>18.563036</td>\n",
       "      <td>-166.601464</td>\n",
       "      <td>9.691131</td>\n",
       "      <td>13115</td>\n",
       "      <td>-116.641354</td>\n",
       "      <td>99.199434</td>\n",
       "      <td>-1471.153023</td>\n",
       "      <td>-92.498522</td>\n",
       "      <td>0.000000</td>\n",
       "      <td>0.000000</td>\n",
       "      <td>-1587.794376</td>\n",
       "      <td>6.700912</td>\n",
       "      <td>-385.976607</td>\n",
       "      <td>-11.170865</td>\n",
       "    </tr>\n",
       "    <tr>\n",
       "      <th>1</th>\n",
       "      <td>10</td>\n",
       "      <td>106.9924</td>\n",
       "      <td>2.090488</td>\n",
       "      <td>4.285844</td>\n",
       "      <td>-252.178533</td>\n",
       "      <td>-55.454598</td>\n",
       "      <td>-248.210286</td>\n",
       "      <td>-61.295333</td>\n",
       "      <td>376.3881</td>\n",
       "      <td>3.529407</td>\n",
       "      <td>6.367005</td>\n",
       "      <td>-764.944997</td>\n",
       "      <td>-41.232330</td>\n",
       "      <td>-730.694710</td>\n",
       "      <td>-62.674274</td>\n",
       "      <td>13124</td>\n",
       "      <td>-633.989718</td>\n",
       "      <td>301.990191</td>\n",
       "      <td>-1558.680541</td>\n",
       "      <td>-501.457938</td>\n",
       "      <td>-1363.057395</td>\n",
       "      <td>-201.502232</td>\n",
       "      <td>-3555.727654</td>\n",
       "      <td>-400.969978</td>\n",
       "      <td>-978.904996</td>\n",
       "      <td>-123.969607</td>\n",
       "    </tr>\n",
       "  </tbody>\n",
       "</table>\n",
       "</div>"
      ],
      "text/plain": [
       "   frameId  area_block  dist_block  dist_to_qb_block  x_force_block  \\\n",
       "0        1    157.1760    2.165379          4.273408    -231.113667   \n",
       "1       10    106.9924    2.090488          4.285844    -252.178533   \n",
       "\n",
       "   y_force_block  norm_weighted_x_block  norm_weighted_y_block  area_rush  \\\n",
       "0      -9.797639            -219.375143             -20.861996   413.6981   \n",
       "1     -55.454598            -248.210286             -61.295333   376.3881   \n",
       "\n",
       "   dist_rush  dist_to_qb_rush  x_force_rush  y_force_rush  \\\n",
       "0   3.941905         7.215590   -144.075348     18.563036   \n",
       "1   3.529407         6.367005   -764.944997    -41.232330   \n",
       "\n",
       "   norm_weighted_x_rush  norm_weighted_y_rush      X  net_x_force_bottom  \\\n",
       "0           -166.601464              9.691131  13115         -116.641354   \n",
       "1           -730.694710            -62.674274  13124         -633.989718   \n",
       "\n",
       "   net_y_force_bottom  net_x_force_middle  net_y_force_middle  \\\n",
       "0           99.199434        -1471.153023          -92.498522   \n",
       "1          301.990191        -1558.680541         -501.457938   \n",
       "\n",
       "   net_x_force_top  net_y_force_top  net_x_force  net_y_force  \\\n",
       "0         0.000000         0.000000 -1587.794376     6.700912   \n",
       "1     -1363.057395      -201.502232 -3555.727654  -400.969978   \n",
       "\n",
       "   norm_weighted_x_net  norm_weighted_y_net  \n",
       "0          -385.976607           -11.170865  \n",
       "1          -978.904996          -123.969607  "
      ]
     },
     "execution_count": 185,
     "metadata": {},
     "output_type": "execute_result"
    }
   ],
   "source": [
    "X_train.head(2)\n",
    "#frameID, net x force middle, dist to qb rush"
   ]
  },
  {
   "cell_type": "code",
   "execution_count": 186,
   "id": "1ce71546",
   "metadata": {},
   "outputs": [
    {
     "data": {
      "text/plain": [
       "26"
      ]
     },
     "execution_count": 186,
     "metadata": {},
     "output_type": "execute_result"
    }
   ],
   "source": [
    "len(X_train.columns)"
   ]
  },
  {
   "cell_type": "code",
   "execution_count": 187,
   "id": "2ae936e4",
   "metadata": {},
   "outputs": [
    {
     "data": {
      "text/plain": [
       "<sklearn.inspection._plot.partial_dependence.PartialDependenceDisplay at 0x142c85490>"
      ]
     },
     "execution_count": 187,
     "metadata": {},
     "output_type": "execute_result"
    },
    {
     "data": {
      "image/png": "[encoded data removed]",
      "text/plain": [
       "<Figure size 432x288 with 4 Axes>"
      ]
     },
     "metadata": {
      "needs_background": "light"
     },
     "output_type": "display_data"
    }
   ],
   "source": [
    "from sklearn.inspection import plot_partial_dependence\n",
    "#,feature_names=['framdId','dist_to_qb_rush','dist_to_qb_block']\n",
    "plot_partial_dependence(clf, features=[0,18,10],X=X_train) \n",
    "\n"
   ]
  },
  {
   "cell_type": "code",
   "execution_count": 81,
   "id": "9599ccfd",
   "metadata": {},
   "outputs": [
    {
     "data": {
      "text/plain": [
       "21"
      ]
     },
     "execution_count": 81,
     "metadata": {},
     "output_type": "execute_result"
    }
   ],
   "source": [
    "len(X_train.columns)"
   ]
  },
  {
   "cell_type": "code",
   "execution_count": 188,
   "id": "cec312ff",
   "metadata": {},
   "outputs": [
    {
     "data": {
      "text/plain": [
       "<sklearn.inspection._plot.partial_dependence.PartialDependenceDisplay at 0x143158820>"
      ]
     },
     "execution_count": 188,
     "metadata": {},
     "output_type": "execute_result"
    },
    {
     "data": {
      "image/png": "[encoded data removed]",
      "text/plain": [
       "<Figure size 432x288 with 4 Axes>"
      ]
     },
     "metadata": {
      "needs_background": "light"
     },
     "output_type": "display_data"
    }
   ],
   "source": [
    "#'net_x_force_middle',dist block , net y force top\n",
    "#20=net y force top \n",
    "plot_partial_dependence(clf, features=[3,19,12],X=X_train) "
   ]
  },
  {
   "cell_type": "code",
   "execution_count": 78,
   "id": "cd33fb9c",
   "metadata": {},
   "outputs": [
    {
     "data": {
      "text/html": [
       "<div>\n",
       "<style scoped>\n",
       "    .dataframe tbody tr th:only-of-type {\n",
       "        vertical-align: middle;\n",
       "    }\n",
       "\n",
       "    .dataframe tbody tr th {\n",
       "        vertical-align: top;\n",
       "    }\n",
       "\n",
       "    .dataframe thead th {\n",
       "        text-align: right;\n",
       "    }\n",
       "</style>\n",
       "<table border=\"1\" class=\"dataframe\">\n",
       "  <thead>\n",
       "    <tr style=\"text-align: right;\">\n",
       "      <th></th>\n",
       "      <th>frameId</th>\n",
       "      <th>area_block</th>\n",
       "      <th>dist_block</th>\n",
       "      <th>dist_to_qb_block</th>\n",
       "      <th>x_force_block</th>\n",
       "      <th>y_force_block</th>\n",
       "      <th>norm_weighted_x_block</th>\n",
       "      <th>norm_weighted_y_block</th>\n",
       "      <th>area_rush</th>\n",
       "      <th>dist_rush</th>\n",
       "      <th>dist_to_qb_rush</th>\n",
       "      <th>x_force_rush</th>\n",
       "      <th>y_force_rush</th>\n",
       "      <th>norm_weighted_x_rush</th>\n",
       "      <th>norm_weighted_y_rush</th>\n",
       "      <th>net_x_force_bottom</th>\n",
       "      <th>net_y_force_bottom</th>\n",
       "      <th>net_x_force_middle</th>\n",
       "      <th>net_y_force_middle</th>\n",
       "      <th>net_x_force_top</th>\n",
       "      <th>net_y_force_top</th>\n",
       "    </tr>\n",
       "  </thead>\n",
       "  <tbody>\n",
       "    <tr>\n",
       "      <th>0</th>\n",
       "      <td>1</td>\n",
       "      <td>79.224000</td>\n",
       "      <td>2.165379</td>\n",
       "      <td>4.273408</td>\n",
       "      <td>0.000000</td>\n",
       "      <td>0.000000</td>\n",
       "      <td>0.00000</td>\n",
       "      <td>0.000000</td>\n",
       "      <td>217.635233</td>\n",
       "      <td>3.941905</td>\n",
       "      <td>7.215590</td>\n",
       "      <td>0.000000</td>\n",
       "      <td>0.000000</td>\n",
       "      <td>0.000000</td>\n",
       "      <td>0.00000</td>\n",
       "      <td>0.000000</td>\n",
       "      <td>0.00000</td>\n",
       "      <td>1471.153017</td>\n",
       "      <td>92.498591</td>\n",
       "      <td>116.641363</td>\n",
       "      <td>-99.199424</td>\n",
       "    </tr>\n",
       "    <tr>\n",
       "      <th>1</th>\n",
       "      <td>10</td>\n",
       "      <td>54.340933</td>\n",
       "      <td>2.090488</td>\n",
       "      <td>4.285844</td>\n",
       "      <td>-346.873572</td>\n",
       "      <td>57.667929</td>\n",
       "      <td>-337.58623</td>\n",
       "      <td>73.375147</td>\n",
       "      <td>187.745233</td>\n",
       "      <td>3.529407</td>\n",
       "      <td>6.367005</td>\n",
       "      <td>-1217.339965</td>\n",
       "      <td>76.233066</td>\n",
       "      <td>-1202.548632</td>\n",
       "      <td>106.33097</td>\n",
       "      <td>1363.057395</td>\n",
       "      <td>201.50224</td>\n",
       "      <td>1558.680496</td>\n",
       "      <td>501.458099</td>\n",
       "      <td>633.989718</td>\n",
       "      <td>-301.990233</td>\n",
       "    </tr>\n",
       "  </tbody>\n",
       "</table>\n",
       "</div>"
      ],
      "text/plain": [
       "   frameId  area_block  dist_block  dist_to_qb_block  x_force_block  \\\n",
       "0        1   79.224000    2.165379          4.273408       0.000000   \n",
       "1       10   54.340933    2.090488          4.285844    -346.873572   \n",
       "\n",
       "   y_force_block  norm_weighted_x_block  norm_weighted_y_block   area_rush  \\\n",
       "0       0.000000                0.00000               0.000000  217.635233   \n",
       "1      57.667929             -337.58623              73.375147  187.745233   \n",
       "\n",
       "   dist_rush  dist_to_qb_rush  x_force_rush  y_force_rush  \\\n",
       "0   3.941905         7.215590      0.000000      0.000000   \n",
       "1   3.529407         6.367005  -1217.339965     76.233066   \n",
       "\n",
       "   norm_weighted_x_rush  norm_weighted_y_rush  net_x_force_bottom  \\\n",
       "0              0.000000               0.00000            0.000000   \n",
       "1          -1202.548632             106.33097         1363.057395   \n",
       "\n",
       "   net_y_force_bottom  net_x_force_middle  net_y_force_middle  \\\n",
       "0             0.00000         1471.153017           92.498591   \n",
       "1           201.50224         1558.680496          501.458099   \n",
       "\n",
       "   net_x_force_top  net_y_force_top  \n",
       "0       116.641363       -99.199424  \n",
       "1       633.989718      -301.990233  "
      ]
     },
     "execution_count": 78,
     "metadata": {},
     "output_type": "execute_result"
    }
   ],
   "source": [
    "X_train.head(2)"
   ]
  },
  {
   "cell_type": "code",
   "execution_count": null,
   "id": "0d4f00f1",
   "metadata": {},
   "outputs": [],
   "source": [
    "net x force middle, dist block, net y force top "
   ]
  },
  {
   "cell_type": "code",
   "execution_count": 56,
   "id": "8e660c69",
   "metadata": {},
   "outputs": [
    {
     "data": {
      "text/plain": [
       "<sklearn.inspection._plot.partial_dependence.PartialDependenceDisplay at 0x1422f8940>"
      ]
     },
     "execution_count": 56,
     "metadata": {},
     "output_type": "execute_result"
    },
    {
     "data": {
      "image/png": "[encoded data removed]",
      "text/plain": [
       "<Figure size 432x288 with 4 Axes>"
      ]
     },
     "metadata": {
      "needs_background": "light"
     },
     "output_type": "display_data"
    }
   ],
   "source": [
    "#net_x_force_bottom,net_y_force_bottom,net_y_force_middle,net_x_force_top\n",
    "plot_partial_dependence(clf, features=[16,17,19],X=X_train) "
   ]
  },
  {
   "cell_type": "code",
   "execution_count": 58,
   "id": "86207693",
   "metadata": {},
   "outputs": [
    {
     "data": {
      "text/plain": [
       "<sklearn.inspection._plot.partial_dependence.PartialDependenceDisplay at 0x1425cee80>"
      ]
     },
     "execution_count": 58,
     "metadata": {},
     "output_type": "execute_result"
    },
    {
     "data": {
      "image/png": "[encoded data removed]",
      "text/plain": [
       "<Figure size 432x288 with 2 Axes>"
      ]
     },
     "metadata": {
      "needs_background": "light"
     },
     "output_type": "display_data"
    }
   ],
   "source": [
    "plot_partial_dependence(clf, features=[19],X=X_train) "
   ]
  },
  {
   "cell_type": "code",
   "execution_count": 57,
   "id": "1664ccc3",
   "metadata": {},
   "outputs": [
    {
     "data": {
      "text/plain": [
       "<sklearn.inspection._plot.partial_dependence.PartialDependenceDisplay at 0x14245f880>"
      ]
     },
     "execution_count": 57,
     "metadata": {},
     "output_type": "execute_result"
    },
    {
     "data": {
      "image/png": "[encoded data removed]",
      "text/plain": [
       "<Figure size 432x288 with 3 Axes>"
      ]
     },
     "metadata": {
      "needs_background": "light"
     },
     "output_type": "display_data"
    }
   ],
   "source": [
    "plot_partial_dependence(clf, features=[20,21],X=X_train) "
   ]
  },
  {
   "cell_type": "code",
   "execution_count": null,
   "id": "9e08462d",
   "metadata": {},
   "outputs": [],
   "source": []
  },
  {
   "cell_type": "code",
   "execution_count": null,
   "id": "5267a1bb",
   "metadata": {},
   "outputs": [],
   "source": []
  },
  {
   "cell_type": "code",
   "execution_count": null,
   "id": "3da7e39f",
   "metadata": {},
   "outputs": [],
   "source": [
    "#check before feature engineering \n",
    "\n",
    "new_df2=copy.deepcopy(new_df1)\n",
    "new_df2['net_xy_force_middle_ratio']=new_df2['net_x_force_middle_name']/new_df2['net_y_force_middle_name']\n",
    "new_df2['net_xy_force_top_ratio']=new_df2['net_x_force_top_name']/new_df2['net_y_force_y_name']\n",
    "new_df2['dist_to_qb_ratio_area']=new_df2['dist_to_qb_name']/new_df2['area_name']\n",
    "new_df2.head(2)"
   ]
  },
  {
   "cell_type": "code",
   "execution_count": null,
   "id": "5969abef",
   "metadata": {},
   "outputs": [],
   "source": [
    "\n",
    "new_df2.replace([np.inf, -np.inf], np.nan, inplace=True)\n",
    "# Drop rows with NaN\n",
    "new_df2.dropna(inplace=True)\n",
    "print(new_df2.isnull().values.any())\n"
   ]
  },
  {
   "cell_type": "code",
   "execution_count": null,
   "id": "f0351a15",
   "metadata": {},
   "outputs": [],
   "source": [
    "x_df1=new_df2[new_df2.columns[~new_df2.columns.isin(['bad_thing'])]]\n",
    "y_df1=new_df2[new_df2.columns[new_df2.columns.isin(['bad_thing'])]]"
   ]
  },
  {
   "cell_type": "code",
   "execution_count": null,
   "id": "92de0972",
   "metadata": {},
   "outputs": [],
   "source": [
    "count = np.isinf(new_df2).values.sum()\n",
    "print(\"Infinity values... \",count)"
   ]
  },
  {
   "cell_type": "code",
   "execution_count": null,
   "id": "a3551d71",
   "metadata": {},
   "outputs": [],
   "source": [
    "X_train, X_test, y_train, y_test = train_test_split(x_df1, y_df1, test_size=0.33, random_state=42)"
   ]
  },
  {
   "cell_type": "code",
   "execution_count": null,
   "id": "922c10f4",
   "metadata": {},
   "outputs": [],
   "source": [
    "# print(X_train.shape)\n",
    "# print(X_test.shape)\n",
    "# print(y_train.shape)\n",
    "# print(y_test.shape)\n",
    "\n",
    "# print(X_train.isnull().values.any())\n",
    "# print(X_test.isnull().values.any())\n",
    "# print(y_train.isnull().values.any())\n",
    "# print(y_test.isnull().values.any())"
   ]
  },
  {
   "cell_type": "code",
   "execution_count": null,
   "id": "c0a9eaac",
   "metadata": {},
   "outputs": [],
   "source": [
    "clf = xgb.XGBClassifier(max_depth=5, n_estimators=30,objective='binary:logistic')\n",
    "# clf = xgb.XGBClassifier(max_depth=5, objective='multi:softprob', n_estimators=1000, \n",
    "#                         num_classes=2)\n",
    "\n",
    "clf.fit(X_train, y_train)  \n",
    "pred = clf.predict(X_test)"
   ]
  },
  {
   "cell_type": "code",
   "execution_count": null,
   "id": "8fa71f1a",
   "metadata": {},
   "outputs": [],
   "source": [
    "print(\"Accuracy of Model::\",accuracy_score(y_test,pred))\n",
    "\n",
    "#didn't perform better"
   ]
  },
  {
   "cell_type": "code",
   "execution_count": null,
   "id": "b905c25a",
   "metadata": {},
   "outputs": [],
   "source": []
  },
  {
   "cell_type": "code",
   "execution_count": null,
   "id": "444d8405",
   "metadata": {},
   "outputs": [],
   "source": [
    "#grid search\n",
    "from sklearn.model_selection import StratifiedKFold\n",
    "from sklearn.model_selection import RandomizedSearchCV, GridSearchCV\n",
    "from sklearn.metrics import roc_auc_score\n",
    "\n",
    "parameters = {\n",
    "              'objective':['binary:logistic'],\n",
    "              'learning_rate': [0.05], #so called `eta` value\n",
    "              'max_depth': [4,5,6],\n",
    "              'subsample': [0.8],\n",
    "              'colsample_bytree': [0.7],\n",
    "              'n_estimators': [30,40,50] #number of trees, change it to 1000 for better results\n",
    "            }"
   ]
  },
  {
   "cell_type": "code",
   "execution_count": null,
   "id": "76fa01eb",
   "metadata": {},
   "outputs": [],
   "source": [
    "skf = StratifiedKFold(n_splits=4, shuffle = True, random_state = 42)\n",
    "\n",
    "random_search = RandomizedSearchCV(xgb.XGBClassifier(), param_distributions=parameters, scoring='roc_auc', cv=skf.split(x_df1, y_df1), verbose=3, random_state=42 )"
   ]
  },
  {
   "cell_type": "code",
   "execution_count": null,
   "id": "b664d4ea",
   "metadata": {},
   "outputs": [],
   "source": [
    "random_search.fit(x_df1, y_df1)\n"
   ]
  },
  {
   "cell_type": "code",
   "execution_count": null,
   "id": "ce791ff5",
   "metadata": {},
   "outputs": [],
   "source": [
    "print('\\n Best estimator:')\n",
    "print(random_search.best_estimator_)\n",
    "print('\\n Best hyperparameters:')\n",
    "print(random_search.best_params_)"
   ]
  },
  {
   "cell_type": "code",
   "execution_count": null,
   "id": "4338da20",
   "metadata": {},
   "outputs": [],
   "source": [
    "clf = xgb.XGBClassifier(max_depth=6,subsample=0.8, n_estimators=50,objective='binary:logistic',learning_rate=0.05,colsample_bytree=0.7)\n",
    "# clf = xgb.XGBClassifier(max_depth=5, objective='multi:softprob', n_estimators=1000, \n",
    "#                         num_classes=2)\n",
    "\n",
    "clf.fit(X_train, y_train)  \n",
    "pred = clf.predict(X_test)\n",
    "print(\"Accuracy of Model::\",accuracy_score(y_test,pred))\n",
    "\n"
   ]
  },
  {
   "cell_type": "code",
   "execution_count": null,
   "id": "47fc0f1c",
   "metadata": {},
   "outputs": [],
   "source": [
    "#do some random forest"
   ]
  }
 ],
 "metadata": {
  "kernelspec": {
   "display_name": "stat_capstone",
   "language": "python",
   "name": "stat_capstone"
  },
  "language_info": {
   "codemirror_mode": {
    "name": "ipython",
    "version": 3
   },
   "file_extension": ".py",
   "mimetype": "text/x-python",
   "name": "python",
   "nbconvert_exporter": "python",
   "pygments_lexer": "ipython3",
   "version": "3.9.5"
  }
 },
 "nbformat": 4,
 "nbformat_minor": 5
}
